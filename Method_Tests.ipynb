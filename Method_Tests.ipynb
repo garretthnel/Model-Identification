{
 "cells": [
  {
   "cell_type": "code",
   "execution_count": 2,
   "metadata": {},
   "outputs": [],
   "source": [
    "import sysid\n",
    "import ssid\n",
    "import sippy\n",
    "import parid\n",
    "import numpy\n",
    "import control\n",
    "from matplotlib import pyplot as plt\n",
    "import importlib\n",
    "import pandas"
   ]
  },
  {
   "cell_type": "code",
   "execution_count": 3,
   "metadata": {},
   "outputs": [],
   "source": [
    "est = parid.Estimation()"
   ]
  },
  {
   "cell_type": "code",
   "execution_count": 4,
   "metadata": {},
   "outputs": [],
   "source": [
    "def stretched(u, n):\n",
    "    new = []\n",
    "    for i in u:\n",
    "        for j in range(int((numpy.random.randn(1)*n))):\n",
    "            new.append(i)\n",
    "    return new"
   ]
  },
  {
   "cell_type": "code",
   "execution_count": 13,
   "metadata": {},
   "outputs": [
    {
     "name": "stdout",
     "output_type": "stream",
     "text": [
      "A = [[0.03141991 0.12524949]\n",
      " [0.00815386 0.03250382]]\n",
      "\n",
      "B = [[-3.79499632e-09]\n",
      " [-9.84849427e-10]]\n",
      "\n",
      "C = [[6.75395131e-06 1.48732215e-06]]\n",
      "\n",
      "D = [[5.]]\n",
      "\n"
     ]
    },
    {
     "data": {
      "text/plain": [
       "[<matplotlib.lines.Line2D at 0x23952b5ff08>]"
      ]
     },
     "execution_count": 13,
     "metadata": {},
     "output_type": "execute_result"
    },
    {
     "data": {
      "image/png": "[encoded data removed]",
      "text/plain": [
       "<Figure size 432x288 with 1 Axes>"
      ]
     },
     "metadata": {
      "needs_background": "light"
     },
     "output_type": "display_data"
    }
   ],
   "source": [
    "# test sysid\n",
    "\n",
    "# us = [est.input['Rect'](t, 10, 50, tf) for t in ts]\n",
    "# us = numpy.random.randn(t)*10\n",
    "us = numpy.cumsum(stretched(numpy.random.randn(100)*10, 10))\n",
    "ts = range(len(us))\n",
    "\n",
    "_, ys, _ = control.forced_response(control.tf([5], [1]), T=ts, U=us)\n",
    "plt.plot(ts, ys)\n",
    "\n",
    "def sysid_id(y, u):\n",
    "    ss1_id = sysid.subspace_det_algo1(y, u, f=2, p=2, s_tol=1e-2, dt=1)\n",
    "    tf = control.ss(ss1_id.A, ss1_id.B, ss1_id.C, ss1_id.D)\n",
    "    _, ys, _ = control.forced_response(tf, T=ts, U=us)\n",
    "    print(tf)\n",
    "    return ts, ys\n",
    "\n",
    "id = sysid_id(ys, us)\n",
    "plt.plot(id[0], id[1])\n",
    "\n",
    "# this module gives questionable results\n",
    "# still gives problems for estimations using any other tf than 1/1"
   ]
  },
  {
   "cell_type": "code",
   "execution_count": 9,
   "metadata": {},
   "outputs": [
    {
     "ename": "ValueError",
     "evalue": "all the input array dimensions except for the concatenation axis must match exactly",
     "output_type": "error",
     "traceback": [
      "\u001b[1;31m---------------------------------------------------------------------------\u001b[0m",
      "\u001b[1;31mValueError\u001b[0m                                Traceback (most recent call last)",
      "\u001b[1;32m<ipython-input-9-8edfb236f572>\u001b[0m in \u001b[0;36m<module>\u001b[1;34m\u001b[0m\n\u001b[0;32m     13\u001b[0m     \u001b[1;32mreturn\u001b[0m \u001b[0mtf\u001b[0m\u001b[1;33m.\u001b[0m\u001b[0mnum\u001b[0m\u001b[1;33m,\u001b[0m \u001b[0mtf\u001b[0m\u001b[1;33m.\u001b[0m\u001b[0mden\u001b[0m\u001b[1;33m\u001b[0m\u001b[1;33m\u001b[0m\u001b[0m\n\u001b[0;32m     14\u001b[0m \u001b[1;33m\u001b[0m\u001b[0m\n\u001b[1;32m---> 15\u001b[1;33m \u001b[0msubspace_id\u001b[0m\u001b[1;33m(\u001b[0m\u001b[0mys\u001b[0m\u001b[1;33m,\u001b[0m \u001b[0mus\u001b[0m\u001b[1;33m)\u001b[0m\u001b[1;33m\u001b[0m\u001b[1;33m\u001b[0m\u001b[0m\n\u001b[0m\u001b[0;32m     16\u001b[0m \u001b[1;33m\u001b[0m\u001b[0m\n\u001b[0;32m     17\u001b[0m \u001b[1;31m# \"TypeError: 'float' object cannot be interpreted as an integer\" but I cannot see where to correct it\u001b[0m\u001b[1;33m\u001b[0m\u001b[1;33m\u001b[0m\u001b[1;33m\u001b[0m\u001b[0m\n",
      "\u001b[1;32m<ipython-input-9-8edfb236f572>\u001b[0m in \u001b[0;36msubspace_id\u001b[1;34m(y, u)\u001b[0m\n\u001b[0;32m      7\u001b[0m \u001b[1;32mdef\u001b[0m \u001b[0msubspace_id\u001b[0m\u001b[1;33m(\u001b[0m\u001b[0my\u001b[0m\u001b[1;33m,\u001b[0m \u001b[0mu\u001b[0m\u001b[1;33m)\u001b[0m\u001b[1;33m:\u001b[0m\u001b[1;33m\u001b[0m\u001b[1;33m\u001b[0m\u001b[0m\n\u001b[0;32m      8\u001b[0m     \u001b[0mu\u001b[0m\u001b[1;33m,\u001b[0m \u001b[0my\u001b[0m \u001b[1;33m=\u001b[0m \u001b[0mnumpy\u001b[0m\u001b[1;33m.\u001b[0m\u001b[0marray\u001b[0m\u001b[1;33m(\u001b[0m\u001b[1;33m[\u001b[0m\u001b[0mu\u001b[0m\u001b[1;33m]\u001b[0m\u001b[1;33m)\u001b[0m\u001b[1;33m,\u001b[0m \u001b[0mnumpy\u001b[0m\u001b[1;33m.\u001b[0m\u001b[0marray\u001b[0m\u001b[1;33m(\u001b[0m\u001b[1;33m[\u001b[0m\u001b[0my\u001b[0m\u001b[1;33m]\u001b[0m\u001b[1;33m)\u001b[0m\u001b[1;33m\u001b[0m\u001b[1;33m\u001b[0m\u001b[0m\n\u001b[1;32m----> 9\u001b[1;33m     \u001b[0mA\u001b[0m\u001b[1;33m,\u001b[0m \u001b[0mB\u001b[0m\u001b[1;33m,\u001b[0m \u001b[0mC\u001b[0m\u001b[1;33m,\u001b[0m \u001b[0mD\u001b[0m\u001b[1;33m,\u001b[0m \u001b[0mCov\u001b[0m\u001b[1;33m,\u001b[0m \u001b[0mS\u001b[0m \u001b[1;33m=\u001b[0m \u001b[0mssid\u001b[0m\u001b[1;33m.\u001b[0m\u001b[0mN4SID\u001b[0m\u001b[1;33m(\u001b[0m\u001b[0mu\u001b[0m\u001b[1;33m,\u001b[0m \u001b[0my\u001b[0m\u001b[1;33m,\u001b[0m \u001b[1;36m100\u001b[0m\u001b[1;33m,\u001b[0m \u001b[1;36m100\u001b[0m\u001b[1;33m,\u001b[0m \u001b[1;36m4\u001b[0m\u001b[1;33m)\u001b[0m\u001b[1;33m\u001b[0m\u001b[1;33m\u001b[0m\u001b[0m\n\u001b[0m\u001b[0;32m     10\u001b[0m     \u001b[0mtf\u001b[0m \u001b[1;33m=\u001b[0m \u001b[0mcontrol\u001b[0m\u001b[1;33m.\u001b[0m\u001b[0mss\u001b[0m\u001b[1;33m(\u001b[0m\u001b[0mA\u001b[0m\u001b[1;33m,\u001b[0m \u001b[0mB\u001b[0m\u001b[1;33m,\u001b[0m \u001b[0mC\u001b[0m\u001b[1;33m,\u001b[0m \u001b[0mD\u001b[0m\u001b[1;33m)\u001b[0m\u001b[1;33m\u001b[0m\u001b[1;33m\u001b[0m\u001b[0m\n\u001b[0;32m     11\u001b[0m     \u001b[0m_\u001b[0m\u001b[1;33m,\u001b[0m \u001b[0mys\u001b[0m\u001b[1;33m,\u001b[0m \u001b[0m_\u001b[0m \u001b[1;33m=\u001b[0m \u001b[0mcontrol\u001b[0m\u001b[1;33m.\u001b[0m\u001b[0mforced_response\u001b[0m\u001b[1;33m(\u001b[0m\u001b[0mtf\u001b[0m\u001b[1;33m,\u001b[0m \u001b[0mT\u001b[0m\u001b[1;33m=\u001b[0m\u001b[0mts\u001b[0m\u001b[1;33m,\u001b[0m \u001b[0mU\u001b[0m\u001b[1;33m=\u001b[0m\u001b[0mus\u001b[0m\u001b[1;33m)\u001b[0m\u001b[1;33m\u001b[0m\u001b[1;33m\u001b[0m\u001b[0m\n",
      "\u001b[1;32m~\\Documents\\Model-Identification\\ssid.py\u001b[0m in \u001b[0;36mN4SID\u001b[1;34m(u, y, NumRows, NumCols, NSig, require_stable)\u001b[0m\n\u001b[0;32m    273\u001b[0m                'Columns':NumCols}\n\u001b[0;32m    274\u001b[0m \u001b[1;33m\u001b[0m\u001b[0m\n\u001b[1;32m--> 275\u001b[1;33m     \u001b[0mGammaDict\u001b[0m\u001b[1;33m,\u001b[0m\u001b[0mS\u001b[0m \u001b[1;33m=\u001b[0m \u001b[0mpreProcess\u001b[0m\u001b[1;33m(\u001b[0m\u001b[0mu\u001b[0m\u001b[1;33m,\u001b[0m\u001b[0my\u001b[0m\u001b[1;33m,\u001b[0m\u001b[0mNumDict\u001b[0m\u001b[1;33m)\u001b[0m\u001b[1;33m\u001b[0m\u001b[1;33m\u001b[0m\u001b[0m\n\u001b[0m\u001b[0;32m    276\u001b[0m \u001b[1;33m\u001b[0m\u001b[0m\n\u001b[0;32m    277\u001b[0m \u001b[1;33m\u001b[0m\u001b[0m\n",
      "\u001b[1;32m~\\Documents\\Model-Identification\\ssid.py\u001b[0m in \u001b[0;36mpreProcess\u001b[1;34m(u, y, NumDict)\u001b[0m\n\u001b[0;32m    127\u001b[0m     \u001b[0mUPast\u001b[0m\u001b[1;33m,\u001b[0m\u001b[0mUFuture\u001b[0m \u001b[1;33m=\u001b[0m \u001b[0mgetHankelMatrices\u001b[0m\u001b[1;33m(\u001b[0m\u001b[0mu\u001b[0m\u001b[1;33m,\u001b[0m\u001b[0mNumRows\u001b[0m\u001b[1;33m,\u001b[0m\u001b[0mNumCols\u001b[0m\u001b[1;33m)\u001b[0m\u001b[1;33m\u001b[0m\u001b[1;33m\u001b[0m\u001b[0m\n\u001b[0;32m    128\u001b[0m     \u001b[0mYPast\u001b[0m\u001b[1;33m,\u001b[0m\u001b[0mYFuture\u001b[0m \u001b[1;33m=\u001b[0m \u001b[0mgetHankelMatrices\u001b[0m\u001b[1;33m(\u001b[0m\u001b[0my\u001b[0m\u001b[1;33m,\u001b[0m\u001b[0mNumRows\u001b[0m\u001b[1;33m,\u001b[0m\u001b[0mNumCols\u001b[0m\u001b[1;33m)\u001b[0m\u001b[1;33m\u001b[0m\u001b[1;33m\u001b[0m\u001b[0m\n\u001b[1;32m--> 129\u001b[1;33m     \u001b[0mData\u001b[0m \u001b[1;33m=\u001b[0m \u001b[0mnp\u001b[0m\u001b[1;33m.\u001b[0m\u001b[0mvstack\u001b[0m\u001b[1;33m(\u001b[0m\u001b[1;33m(\u001b[0m\u001b[0mUPast\u001b[0m\u001b[1;33m,\u001b[0m\u001b[0mUFuture\u001b[0m\u001b[1;33m,\u001b[0m\u001b[0mYPast\u001b[0m\u001b[1;33m)\u001b[0m\u001b[1;33m)\u001b[0m\u001b[1;33m\u001b[0m\u001b[1;33m\u001b[0m\u001b[0m\n\u001b[0m\u001b[0;32m    130\u001b[0m     \u001b[0mL\u001b[0m \u001b[1;33m=\u001b[0m \u001b[0mla\u001b[0m\u001b[1;33m.\u001b[0m\u001b[0mlstsq\u001b[0m\u001b[1;33m(\u001b[0m\u001b[0mData\u001b[0m\u001b[1;33m.\u001b[0m\u001b[0mT\u001b[0m\u001b[1;33m,\u001b[0m\u001b[0mYFuture\u001b[0m\u001b[1;33m.\u001b[0m\u001b[0mT\u001b[0m\u001b[1;33m)\u001b[0m\u001b[1;33m[\u001b[0m\u001b[1;36m0\u001b[0m\u001b[1;33m]\u001b[0m\u001b[1;33m.\u001b[0m\u001b[0mT\u001b[0m\u001b[1;33m\u001b[0m\u001b[1;33m\u001b[0m\u001b[0m\n\u001b[0;32m    131\u001b[0m     \u001b[0mZ\u001b[0m \u001b[1;33m=\u001b[0m \u001b[0mnp\u001b[0m\u001b[1;33m.\u001b[0m\u001b[0mdot\u001b[0m\u001b[1;33m(\u001b[0m\u001b[0mL\u001b[0m\u001b[1;33m,\u001b[0m\u001b[0mData\u001b[0m\u001b[1;33m)\u001b[0m\u001b[1;33m\u001b[0m\u001b[1;33m\u001b[0m\u001b[0m\n",
      "\u001b[1;32mC:\\ProgramData\\Anaconda3\\lib\\site-packages\\numpy\\core\\shape_base.py\u001b[0m in \u001b[0;36mvstack\u001b[1;34m(tup)\u001b[0m\n\u001b[0;32m    281\u001b[0m     \"\"\"\n\u001b[0;32m    282\u001b[0m     \u001b[0m_warn_for_nonsequence\u001b[0m\u001b[1;33m(\u001b[0m\u001b[0mtup\u001b[0m\u001b[1;33m)\u001b[0m\u001b[1;33m\u001b[0m\u001b[1;33m\u001b[0m\u001b[0m\n\u001b[1;32m--> 283\u001b[1;33m     \u001b[1;32mreturn\u001b[0m \u001b[0m_nx\u001b[0m\u001b[1;33m.\u001b[0m\u001b[0mconcatenate\u001b[0m\u001b[1;33m(\u001b[0m\u001b[1;33m[\u001b[0m\u001b[0matleast_2d\u001b[0m\u001b[1;33m(\u001b[0m\u001b[0m_m\u001b[0m\u001b[1;33m)\u001b[0m \u001b[1;32mfor\u001b[0m \u001b[0m_m\u001b[0m \u001b[1;32min\u001b[0m \u001b[0mtup\u001b[0m\u001b[1;33m]\u001b[0m\u001b[1;33m,\u001b[0m \u001b[1;36m0\u001b[0m\u001b[1;33m)\u001b[0m\u001b[1;33m\u001b[0m\u001b[1;33m\u001b[0m\u001b[0m\n\u001b[0m\u001b[0;32m    284\u001b[0m \u001b[1;33m\u001b[0m\u001b[0m\n\u001b[0;32m    285\u001b[0m \u001b[1;33m\u001b[0m\u001b[0m\n",
      "\u001b[1;31mValueError\u001b[0m: all the input array dimensions except for the concatenation axis must match exactly"
     ]
    },
    {
     "data": {
      "image/png": "[encoded data removed]",
      "text/plain": [
       "<Figure size 432x288 with 1 Axes>"
      ]
     },
     "metadata": {
      "needs_background": "light"
     },
     "output_type": "display_data"
    }
   ],
   "source": [
    "# try a different module\n",
    "import sysid\n",
    "import ssid\n",
    "import sippy\n",
    "import parid\n",
    "import numpy\n",
    "import control\n",
    "from matplotlib import pyplot as plt\n",
    "import importlib\n",
    "est = parid.Estimation()\n",
    "importlib.reload(ssid)\n",
    "\n",
    "_, ys, _ = control.forced_response(control.tf([1], [10,1]), T=ts, U=us)\n",
    "plt.plot(ts, ys)\n",
    "\n",
    "def subspace_id(y, u):\n",
    "    u, y = numpy.array([u]), numpy.array([y])\n",
    "    A, B, C, D, Cov, S = ssid.N4SID(u, y, 100, 100, 4)\n",
    "    tf = control.ss(A, B, C, D)\n",
    "    _, ys, _ = control.forced_response(tf, T=ts, U=us)\n",
    "    plt.plot(ts, ys) \n",
    "    return tf.num, tf.den\n",
    "\n",
    "subspace_id(ys, us)\n",
    "\n",
    "# \"TypeError: 'float' object cannot be interpreted as an integer\" but I cannot see where to correct it\n",
    "# the above error exists even in the example code from the N4SID github when run https://github.com/AndyLamperski/pyN4SID/blob/master/N4SIDtest.ipynb"
   ]
  },
  {
   "cell_type": "code",
   "execution_count": 702,
   "metadata": {},
   "outputs": [
    {
     "name": "stdout",
     "output_type": "stream",
     "text": [
      "A = [[0.9048617]]\n",
      "\n",
      "B = [[-0.00015561]]\n",
      "\n",
      "C = [[-614.98774942]]\n",
      "\n",
      "D = [[0.]]\n",
      "\n"
     ]
    },
    {
     "data": {
      "text/plain": [
       "[<matplotlib.lines.Line2D at 0x2c55f4d3548>]"
      ]
     },
     "execution_count": 702,
     "metadata": {},
     "output_type": "execute_result"
    },
    {
     "data": {
      "image/png": "[encoded data removed]",
      "text/plain": [
       "<Figure size 432x288 with 1 Axes>"
      ]
     },
     "metadata": {
      "needs_background": "light"
     },
     "output_type": "display_data"
    }
   ],
   "source": [
    "# try SIPPY https://github.com/CPCLAB-UNIPI/SIPPY.git (requires slycot)\n",
    "us = numpy.cumsum(stretched(numpy.random.randn(100)*10, 10))\n",
    "ts = range(len(us))\n",
    "\n",
    "_, ys, _ = control.forced_response(control.tf([1,1], [10,1]), T=ts, U=us)\n",
    "plt.plot(ts, ys)\n",
    "\n",
    "def sippy_id(y, u):\n",
    "    u, y = numpy.array(u), numpy.array(y)\n",
    "    sys_id = sippy.system_identification(y, u, 'N4SID')\n",
    "    tf = control.ss(sys_id.A, sys_id.B, sys_id.C, sys_id.D)\n",
    "    _, ys, _ = control.forced_response(tf, T=ts, U=us)\n",
    "    print(tf)\n",
    "    return ts, ys\n",
    "\n",
    "id = sippy_id(ys, us)\n",
    "plt.plot(id[0], id[1])\n",
    "\n",
    "# similar problem as sysid?\n",
    "# same as with sysid w.r.t. random input results"
   ]
  },
  {
   "cell_type": "code",
   "execution_count": 703,
   "metadata": {},
   "outputs": [
    {
     "name": "stdout",
     "output_type": "stream",
     "text": [
      "A = [[0.90488389]]\n",
      "\n",
      "B = [[-0.00037681]]\n",
      "\n",
      "C = [[-252.02474186]]\n",
      "\n",
      "D = [[0.]]\n",
      "\n"
     ]
    },
    {
     "data": {
      "text/plain": [
       "[<matplotlib.lines.Line2D at 0x2c55f55f3c8>]"
      ]
     },
     "execution_count": 703,
     "metadata": {},
     "output_type": "execute_result"
    },
    {
     "data": {
      "image/png": "[encoded data removed]",
      "text/plain": [
       "<Figure size 432x288 with 1 Axes>"
      ]
     },
     "metadata": {
      "needs_background": "light"
     },
     "output_type": "display_data"
    }
   ],
   "source": [
    "#  try MOESP\n",
    "\n",
    "us = numpy.cumsum(stretched(numpy.random.randn(100)*10, 10))\n",
    "ts = range(len(us))\n",
    "\n",
    "_, ys, _ = control.forced_response(control.tf([1,1], [10,1]), T=ts, U=us)\n",
    "plt.plot(ts, ys)\n",
    "\n",
    "def sippy_id(y, u):\n",
    "    u, y = numpy.array(u), numpy.array(y)\n",
    "    sys_id = sippy.system_identification(y, u, 'MOESP')\n",
    "    tf = control.ss(sys_id.A, sys_id.B, sys_id.C, sys_id.D)\n",
    "    _, ys, _ = control.forced_response(tf, T=ts, U=us)\n",
    "    print(tf)\n",
    "    return ts, ys\n",
    "\n",
    "id = sippy_id(ys, us)\n",
    "plt.plot(id[0], id[1])\n",
    "\n",
    "# still no luck"
   ]
  },
  {
   "cell_type": "code",
   "execution_count": 701,
   "metadata": {},
   "outputs": [
    {
     "name": "stdout",
     "output_type": "stream",
     "text": [
      "A = [[0.90484283]]\n",
      "\n",
      "B = [[-0.00025528]]\n",
      "\n",
      "C = [[-373.96471655]]\n",
      "\n",
      "D = [[0.]]\n",
      "\n",
      "A = [[0.90483742]]\n",
      "\n",
      "B = [[0.08150325]]\n",
      "\n",
      "C = [[1.]]\n",
      "\n",
      "D = [[0.14353676]]\n",
      "\n"
     ]
    },
    {
     "data": {
      "text/plain": [
       "[<matplotlib.lines.Line2D at 0x2c55f4fee88>]"
      ]
     },
     "execution_count": 701,
     "metadata": {},
     "output_type": "execute_result"
    },
    {
     "data": {
      "image/png": "[encoded data removed]",
      "text/plain": [
       "<Figure size 432x288 with 1 Axes>"
      ]
     },
     "metadata": {
      "needs_background": "light"
     },
     "output_type": "display_data"
    }
   ],
   "source": [
    "sipid = sippy_id(ys, us)\n",
    "syid = sysid_id(ys, us)\n",
    "t = sipid[0]\n",
    "\n",
    "plt.plot(t, sipid[1])\n",
    "plt.plot(t, syid[1])"
   ]
  },
  {
   "cell_type": "code",
   "execution_count": 16,
   "metadata": {},
   "outputs": [
    {
     "data": {
      "text/html": [
       "<div>\n",
       "<style scoped>\n",
       "    .dataframe tbody tr th:only-of-type {\n",
       "        vertical-align: middle;\n",
       "    }\n",
       "\n",
       "    .dataframe tbody tr th {\n",
       "        vertical-align: top;\n",
       "    }\n",
       "\n",
       "    .dataframe thead th {\n",
       "        text-align: right;\n",
       "    }\n",
       "</style>\n",
       "<table border=\"1\" class=\"dataframe\">\n",
       "  <thead>\n",
       "    <tr style=\"text-align: right;\">\n",
       "      <th></th>\n",
       "      <th>id1</th>\n",
       "      <th>id2</th>\n",
       "    </tr>\n",
       "    <tr>\n",
       "      <th>key</th>\n",
       "      <th></th>\n",
       "      <th></th>\n",
       "    </tr>\n",
       "  </thead>\n",
       "  <tbody>\n",
       "    <tr>\n",
       "      <td>Duration</td>\n",
       "      <td>1</td>\n",
       "      <td>1</td>\n",
       "    </tr>\n",
       "    <tr>\n",
       "      <td>Num</td>\n",
       "      <td>[4]</td>\n",
       "      <td>[4]</td>\n",
       "    </tr>\n",
       "    <tr>\n",
       "      <td>Den</td>\n",
       "      <td>[1, 2]</td>\n",
       "      <td>[1, 2]</td>\n",
       "    </tr>\n",
       "    <tr>\n",
       "      <td>Numr</td>\n",
       "      <td>[6]</td>\n",
       "      <td>[6]</td>\n",
       "    </tr>\n",
       "    <tr>\n",
       "      <td>Denr</td>\n",
       "      <td>[2, 4]</td>\n",
       "      <td>[2, 4]</td>\n",
       "    </tr>\n",
       "    <tr>\n",
       "      <td>Data</td>\n",
       "      <td>NaN</td>\n",
       "      <td>id1\\n0       1\\n1     [4]\\n2  [1, 2]\\n3 ...</td>\n",
       "    </tr>\n",
       "  </tbody>\n",
       "</table>\n",
       "</div>"
      ],
      "text/plain": [
       "             id1                                                id2\n",
       "key                                                                \n",
       "Duration       1                                                  1\n",
       "Num          [4]                                                [4]\n",
       "Den       [1, 2]                                             [1, 2]\n",
       "Numr         [6]                                                [6]\n",
       "Denr      [2, 4]                                             [2, 4]\n",
       "Data         NaN        id1\\n0       1\\n1     [4]\\n2  [1, 2]\\n3 ..."
      ]
     },
     "execution_count": 16,
     "metadata": {},
     "output_type": "execute_result"
    }
   ],
   "source": [
    "# results format:\n",
    "import matplotlib.pyplot as plt\n",
    "df0 = pandas.DataFrame({'key': ['Duration', 'Num', 'Den', 'Numr', 'Denr', 'Data']})\n",
    "# df3 = pandas.read_csv('test.csv')\n",
    "# df3 = df3.set_index('Time')\n",
    "df1 = pandas.DataFrame({'id1': [1, [4], [1,2], [6], [2,4]]})#, df3]})\n",
    "df2 = pandas.DataFrame({'id2': [1, [4], [1,2], [6], [2,4], df1]})\n",
    "\n",
    "df = pandas.concat([df0, df1, df2], axis=1)\n",
    "df = df.set_index('key')\n",
    "# plt.plot(df['id1']['Data']['Y Estimate'])\n",
    "\n",
    "df.to_csv('restest.csv')\n",
    "df = pandas.read_csv('restest.csv')\n",
    "df = df.set_index('key')\n",
    "# plt.plot(df['id1']['Data']['Y Estimate'])\n",
    "df"
   ]
  },
  {
   "cell_type": "code",
   "execution_count": 20,
   "metadata": {},
   "outputs": [
    {
     "data": {
      "text/plain": [
       "array([ 0, -1,  0])"
      ]
     },
     "execution_count": 20,
     "metadata": {},
     "output_type": "execute_result"
    }
   ],
   "source": [
    "import json\n",
    "import numpy\n",
    "\n",
    "run = {\n",
    "     \"Technique\": \"Diferential Evolution\",\n",
    "     \"Input\": \"Step\",\n",
    "     \"Noise\": \"None\",\n",
    "     \"Duration\": 600,\n",
    "     \"Num\": [1],\n",
    "     \"Den\": [1,0,1],\n",
    "     \"Num Est\": [1],\n",
    "     \"Den Est\": [1,0,1],\n",
    "     \"Time\": [60],\n",
    "     \"Y\": [1],\n",
    "     \"U\": [1],\n",
    "     \"Y Est\": [1],\n",
    "     \"History\": [1]\n",
    "}\n",
    "\n",
    "with open('run.json', 'w') as f:\n",
    "    json.dump(run, f)\n",
    "    \n",
    "with open('run.json', 'r') as f:\n",
    "     run_read = json.load(f)\n",
    "        \n",
    "numpy.array(run_read['Den']) - run_read['Den'][0]"
   ]
  }
 ],
 "metadata": {
  "kernelspec": {
   "display_name": "Python 3",
   "language": "python",
   "name": "python3"
  },
  "language_info": {
   "codemirror_mode": {
    "name": "ipython",
    "version": 3
   },
   "file_extension": ".py",
   "mimetype": "text/x-python",
   "name": "python",
   "nbconvert_exporter": "python",
   "pygments_lexer": "ipython3",
   "version": "3.7.4"
  }
 },
 "nbformat": 4,
 "nbformat_minor": 4
}
