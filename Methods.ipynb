{
 "cells": [
  {
   "cell_type": "code",
   "execution_count": 1,
   "metadata": {},
   "outputs": [],
   "source": [
    "# input functions\n",
    "# data reading function\n",
    "# noise function\n",
    "# method functions\n",
    "\n",
    "# system selection\n",
    "# error calc\n",
    "# save"
   ]
  },
  {
   "cell_type": "code",
   "execution_count": 2,
   "metadata": {},
   "outputs": [],
   "source": [
    "import numpy\n",
    "from matplotlib import pyplot as plt\n",
    "import pandas\n",
    "import random\n",
    "import statsmodels.api as sm\n",
    "import timeit"
   ]
  },
  {
   "cell_type": "code",
   "execution_count": 3,
   "metadata": {},
   "outputs": [],
   "source": [
    "# inputs\n",
    "\n",
    "def step(s, l):\n",
    "    return numpy.concatenate((numpy.array([0 for i in range(s)]), numpy.array([1 for i in range(l)])), axis=None)\n",
    "\n",
    "def rect(s,l,f):\n",
    "    return numpy.concatenate((numpy.array([0 for i in range(s)]), numpy.array([1 for i in range(l)]), numpy.array([0 for i in range(f)])), axis=None)\n",
    "\n",
    "def doublet(s,l1,l2,f):\n",
    "    return numpy.concatenate((numpy.array([0 for i in range(s)]), numpy.array([1 for i in range(l1)]), numpy.array([-1 for i in range(l2)]), numpy.array([0 for i in range(f)])), axis=None)\n"
   ]
  },
  {
   "cell_type": "code",
   "execution_count": 4,
   "metadata": {},
   "outputs": [],
   "source": [
    "# read data\n",
    "\n",
    "def read(file):\n",
    "    df = pandas.read_csv(file)\n",
    "    ydata = df.y.values - df.y[0]\n",
    "    udata = df.u.values - df.u[0]\n",
    "    tdata = df.t.values\n",
    "    return [ydata, udata, tdata]\n"
   ]
  },
  {
   "cell_type": "code",
   "execution_count": 5,
   "metadata": {},
   "outputs": [],
   "source": [
    "#  noise\n",
    "\n",
    "def uniform_noise(data, m): #currently does not include 1\n",
    "    ydata, udata, t = data\n",
    "    noise = [random.uniform(-1,1)*m for i in range(len(ydata))]\n",
    "    noisy = ydata + noise\n",
    "    return noisy\n",
    "\n",
    "def pseudo_noise(data, m): #currently only returns int values\n",
    "    ydata, udata, t = data\n",
    "    noise = [random.randrange(start=-1,stop=1)*m for i in range(len(ydata))]\n",
    "    noisy = ydata + noise\n",
    "    return noisy\n"
   ]
  },
  {
   "cell_type": "code",
   "execution_count": 6,
   "metadata": {},
   "outputs": [],
   "source": [
    "# methods\n",
    "\n",
    "# time series\n",
    "# ARMAX\n",
    "def ARMAX(data):\n",
    "    ydata, udata, t = data\n",
    "    start = timeit.default_timer()\n",
    "    ARMA_results = sm.tsa.ARMA(ydata, order=(2,1), exog = udata).fit()\n",
    "    y_armax = ARMA_results.predict(0, len(t)-1, udata) + ydata[0]\n",
    "    end = timeit.default_timer()\n",
    "    runtime = end - start\n",
    "    return y_armax, runtime\n",
    "\n",
    "# ARX\n",
    "def ARX(data):\n",
    "    ydata, udata, t = data\n",
    "    start = timeit.default_timer()\n",
    "    ARX_results = sm.tsa.AR(ydata).fit()\n",
    "    y_arx = ARX_results.predict()\n",
    "    end = timeit.default_timer()\n",
    "    runtime = end - start\n",
    "    t_arx = time[:len(y_arx)]\n",
    "    return y_arx, runtime\n",
    "\n",
    "# model based\n",
    "# DE\n",
    "def DE(bounds, func):     \n",
    "    start = timeit.default_timer()\n",
    "    coeff = scipy.optimize.differential_evolution(func, bounds).x\n",
    "    end = timeit.default_timer()\n",
    "    runtime = end - start\n",
    "       \n",
    "    return coeff, runtime\n",
    "\n",
    "# Least Squares\n",
    "def LSTSQ_rt_coeffs(ig, func): #ig = initial guess \\\\\n",
    "    start = timeit.default_timer()\n",
    "    coeff = scipy.optimize.least_squares(func, ig).x\n",
    "    end = timeit.default_timer()\n",
    "    runtime = end - start\n",
    "       \n",
    "    return coeff, runtime"
   ]
  },
  {
   "cell_type": "code",
   "execution_count": 7,
   "metadata": {},
   "outputs": [],
   "source": [
    "# system\n",
    "\n"
   ]
  },
  {
   "cell_type": "code",
   "execution_count": 8,
   "metadata": {},
   "outputs": [],
   "source": [
    "# error\n",
    "\n",
    "def err(data, pred):\n",
    "    ydata, udata, t = data\n",
    "    errors = ydata - pred\n",
    "    return errors"
   ]
  },
  {
   "cell_type": "code",
   "execution_count": 10,
   "metadata": {},
   "outputs": [],
   "source": [
    "# save\n",
    "def save_data(data, save_name):\n",
    "    df = pandas.DataFrame(data, columns=['y','u','t'])\n",
    "    df.to_csv(save_name)\n",
    "    return None\n"
   ]
  }
 ],
 "metadata": {
  "kernelspec": {
   "display_name": "Python 3",
   "language": "python",
   "name": "python3"
  },
  "language_info": {
   "codemirror_mode": {
    "name": "ipython",
    "version": 3
   },
   "file_extension": ".py",
   "mimetype": "text/x-python",
   "name": "python",
   "nbconvert_exporter": "python",
   "pygments_lexer": "ipython3",
   "version": "3.7.4"
  }
 },
 "nbformat": 4,
 "nbformat_minor": 4
}
