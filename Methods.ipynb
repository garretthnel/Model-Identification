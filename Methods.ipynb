{
 "cells": [
  {
   "cell_type": "code",
   "execution_count": null,
   "metadata": {},
   "outputs": [],
   "source": [
    "import numpy\n",
    "import matplotlib.pyplot as plt\n",
    "import statsmodels.api as sm\n",
    "import pandas \n",
    "import timeit\n",
    "from random import gauss"
   ]
  },
  {
   "cell_type": "code",
   "execution_count": null,
   "metadata": {},
   "outputs": [],
   "source": [
    "# input data column format: Output values (y), Input values (u), Times (t)\n",
    "\n",
    "def extract_data(filename):\n",
    "    df = pandas.read_csv(filename)\n",
    "    ydata = df.y.values - df.y[0]\n",
    "    udata = df.u.values - df.u[0]\n",
    "    tdata = df.t.values\n",
    "    return [ydata, udata, tdata]"
   ]
  },
  {
   "cell_type": "code",
   "execution_count": null,
   "metadata": {},
   "outputs": [],
   "source": [
    "# Models/Generate data\n"
   ]
  },
  {
   "cell_type": "code",
   "execution_count": null,
   "metadata": {},
   "outputs": [],
   "source": [
    "def add_noise(data, sd):\n",
    "    ydata, udata, t = data\n",
    "    noise = [gauss(1, sd) for i in range(len(ydata))]\n",
    "    noisy = ydata + noise\n",
    "    return noisy"
   ]
  },
  {
   "cell_type": "code",
   "execution_count": null,
   "metadata": {},
   "outputs": [],
   "source": [
    "def err(data, prediction):\n",
    "    ydata, udata, t = data\n",
    "    errors = ydata - prediction\n",
    "    return errors"
   ]
  },
  {
   "cell_type": "code",
   "execution_count": null,
   "metadata": {},
   "outputs": [],
   "source": [
    "# ARMAX\n",
    "def ARMAX(data):\n",
    "    ydata, udata, t = data\n",
    "    start = timeit.default_timer()\n",
    "    ARMA_results = sm.tsa.ARMA(ydata, order=(2,1), exog = udata).fit()\n",
    "    y_armax = ARMA_results.predict(0, len(t)-1, udata) + ydata[0]# + 21\n",
    "    end = timeit.default_timer()\n",
    "    runtime = end - start\n",
    "#     cst, q1, ar1, ar2, ma = ARMA_results.params\n",
    "    return y_armax"
   ]
  },
  {
   "cell_type": "code",
   "execution_count": null,
   "metadata": {},
   "outputs": [],
   "source": [
    "# ARX\n",
    "def ARX(data):\n",
    "    ydata, udata, t = data\n",
    "    start = timeit.default_timer()\n",
    "    ARX_results = sm.tsa.AR(ydata).fit()\n",
    "    y_arx = ARX_results.predict()\n",
    "    end = timeit.default_timer()\n",
    "    runtime = end - start\n",
    "    t_arx = time[:len(y_arx)]\n",
    "#     parameters?\n",
    "    return y_arx, t_arx"
   ]
  },
  {
   "cell_type": "code",
   "execution_count": null,
   "metadata": {},
   "outputs": [],
   "source": [
    "# DE\n",
    "def DE(bounds, func):     \n",
    "    start = timeit.default_timer()\n",
    "    coeff = scipy.optimize.differential_evolution(func, bounds).x\n",
    "    end = timeit.default_timer()\n",
    "    runtime = end - start\n",
    "       \n",
    "    return runtime, coeff"
   ]
  },
  {
   "cell_type": "code",
   "execution_count": null,
   "metadata": {},
   "outputs": [],
   "source": [
    "# Least Squares\n",
    "def LSTSQ_rt_coeffs(ig, func): #ig = initial guess \\\\\n",
    "    start = timeit.default_timer()\n",
    "    coeff = scipy.optimize.least_squares(func, ig).x\n",
    "    end = timeit.default_timer()\n",
    "    runtime = end - start\n",
    "       \n",
    "    return runtime, coeff"
   ]
  },
  {
   "cell_type": "code",
   "execution_count": 1,
   "metadata": {},
   "outputs": [],
   "source": [
    "# Particle Swarm"
   ]
  },
  {
   "cell_type": "code",
   "execution_count": 2,
   "metadata": {},
   "outputs": [],
   "source": [
    "# Genetic Algorithm"
   ]
  },
  {
   "cell_type": "code",
   "execution_count": 3,
   "metadata": {},
   "outputs": [],
   "source": [
    "# Tabu Search"
   ]
  },
  {
   "cell_type": "code",
   "execution_count": 4,
   "metadata": {},
   "outputs": [],
   "source": [
    "# Gradient based method"
   ]
  },
  {
   "cell_type": "code",
   "execution_count": 5,
   "metadata": {},
   "outputs": [],
   "source": [
    "# Subspace Identification"
   ]
  }
 ],
 "metadata": {
  "kernelspec": {
   "display_name": "Python 3",
   "language": "python",
   "name": "python3"
  },
  "language_info": {
   "codemirror_mode": {
    "name": "ipython",
    "version": 3
   },
   "file_extension": ".py",
   "mimetype": "text/x-python",
   "name": "python",
   "nbconvert_exporter": "python",
   "pygments_lexer": "ipython3",
   "version": "3.7.4"
  }
 },
 "nbformat": 4,
 "nbformat_minor": 4
}
