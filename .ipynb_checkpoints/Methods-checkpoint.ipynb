{
 "cells": [
  {
   "cell_type": "code",
   "execution_count": 3,
   "metadata": {},
   "outputs": [],
   "source": [
    "# input functions\n",
    "# data reading function\n",
    "# noise function\n",
    "# method functions\n",
    "# system selection\n",
    "# error calc\n",
    "# save"
   ]
  },
  {
   "cell_type": "code",
   "execution_count": 4,
   "metadata": {},
   "outputs": [],
   "source": [
    "import numpy\n",
    "from matplotlib import pyplot as plt\n",
    "import pandas\n",
    "import random\n",
    "import statsmodels.api as sm\n",
    "import timeit"
   ]
  },
  {
   "cell_type": "code",
   "execution_count": 24,
   "metadata": {},
   "outputs": [],
   "source": [
    "# inputs\n",
    "\n",
    "def step(t, par):\n",
    "    i = par\n",
    "    if t<i:\n",
    "        return 0\n",
    "    else:\n",
    "        return 1\n",
    "    return numpy.concatenate((numpy.array([0 for i in range(s)]), numpy.array([1 for i in range(l)])), axis=None)\n",
    "\n",
    "def rect(t, par):\n",
    "    i, f = par\n",
    "    if t>=i and t<f:\n",
    "        return 1\n",
    "    else:\n",
    "        return 0\n",
    "#     return numpy.concatenate((numpy.array([0 for i in range(s)]), numpy.array([1 for i in range(l)]), numpy.array([0 for i in range(f)])), axis=None)\n",
    "\n",
    "def doublet(t, par):\n",
    "    i, f1, f2 = par\n",
    "    if t>=i and t<f1:\n",
    "        return 1\n",
    "    elif t>=f1 and t<f2:\n",
    "        return -1\n",
    "    else:\n",
    "        return 0\n",
    "#     return numpy.concatenate((numpy.array([0 for i in range(s)]), numpy.array([1 for i in range(l1)]), numpy.array([-1 for i in range(l2)]), numpy.array([0 for i in range(f)])), axis=None)"
   ]
  },
  {
   "cell_type": "code",
   "execution_count": 6,
   "metadata": {},
   "outputs": [],
   "source": [
    "# read data\n",
    "\n",
    "def read(file):\n",
    "    df = pandas.read_csv(file)\n",
    "    ydata = df.y.values - df.y[0]\n",
    "    udata = df.u.values - df.u[0]\n",
    "    tdata = df.t.values\n",
    "    return [ydata, udata, tdata]\n"
   ]
  },
  {
   "cell_type": "code",
   "execution_count": 7,
   "metadata": {},
   "outputs": [],
   "source": [
    "#  noise\n",
    "\n",
    "def uniform_noise(data, m): #currently does not include 1\n",
    "    ydata, udata, t = data\n",
    "    noise = [random.uniform(-1,1)*m for i in range(len(ydata))]\n",
    "    noisy = ydata + noise\n",
    "    return noisy\n",
    "\n",
    "def pseudo_noise(data, m): #currently only returns int values\n",
    "    ydata, udata, t = data\n",
    "    noise = [random.randrange(start=-1,stop=1)*m for i in range(len(ydata))]\n",
    "    noisy = ydata + noise\n",
    "    return noisy\n"
   ]
  },
  {
   "cell_type": "code",
   "execution_count": 8,
   "metadata": {},
   "outputs": [],
   "source": [
    "# methods\n",
    "\n",
    "# time series\n",
    "# ARMAX\n",
    "def ARMAX(data):\n",
    "    ydata, udata, t = data\n",
    "    start = timeit.default_timer()\n",
    "    ARMA_results = sm.tsa.ARMA(ydata, order=(2,1), exog = udata).fit()\n",
    "    y_armax = ARMA_results.predict(0, len(t)-1, udata) + ydata[0]\n",
    "    end = timeit.default_timer()\n",
    "    runtime = end - start\n",
    "    return y_armax, runtime\n",
    "\n",
    "# ARX\n",
    "def ARX(data):\n",
    "    ydata, udata, t = data\n",
    "    start = timeit.default_timer()\n",
    "    ARX_results = sm.tsa.AR(ydata).fit()\n",
    "    y_arx = ARX_results.predict()\n",
    "    end = timeit.default_timer()\n",
    "    runtime = end - start\n",
    "    t_arx = time[:len(y_arx)]\n",
    "    return y_arx, runtime\n",
    "\n",
    "# model based\n",
    "# DE\n",
    "def DE(bounds, func):     \n",
    "    start = timeit.default_timer()\n",
    "    coeff = scipy.optimize.differential_evolution(func, bounds).x\n",
    "    end = timeit.default_timer()\n",
    "    runtime = end - start\n",
    "       \n",
    "    return coeff, runtime\n",
    "\n",
    "# Least Squares\n",
    "def LSTSQ_rt_coeffs(ig, func): #ig = initial guess \\\\\n",
    "    start = timeit.default_timer()\n",
    "    coeff = scipy.optimize.least_squares(func, ig).x\n",
    "    end = timeit.default_timer()\n",
    "    runtime = end - start\n",
    "       \n",
    "    return coeff, runtime"
   ]
  },
  {
   "cell_type": "code",
   "execution_count": 30,
   "metadata": {},
   "outputs": [
    {
     "data": {
      "text/plain": [
       "[<matplotlib.lines.Line2D at 0x1af94a29ac8>]"
      ]
     },
     "execution_count": 30,
     "metadata": {},
     "output_type": "execute_result"
    },
    {
     "data": {
      "image/png": "[encoded data removed]",
      "text/plain": [
       "<Figure size 432x288 with 1 Axes>"
      ]
     },
     "metadata": {
      "needs_background": "light"
     },
     "output_type": "display_data"
    }
   ],
   "source": [
    "# system\n",
    "\n",
    "def FO(u, mv, uv, l):\n",
    "    K, tau = mv\n",
    "    ts = numpy.linspace(0,l)\n",
    "    dt = ts[1]\n",
    "    y = 0\n",
    "    ys = []\n",
    "    for t in ts:\n",
    "        dydt = -1/tau*y + 1/tau*u(t, up)\n",
    "        y += dydt*dt\n",
    "        ys.append(y)\n",
    "    return ys\n",
    "\n",
    "plt.plot(FO(step, [1, 5], [1], 20))\n",
    "\n",
    "# or other possibilities:\n",
    "# -using scipy.signal.lsim and list of us and ts\n",
    "# -convert to statespace and integrate\n",
    "# -control.forced response"
   ]
  },
  {
   "cell_type": "code",
   "execution_count": 10,
   "metadata": {},
   "outputs": [],
   "source": [
    "# error\n",
    "\n",
    "def err(data, pred):\n",
    "    ydata, udata, t = data\n",
    "    errors = ydata - pred\n",
    "    return errors"
   ]
  },
  {
   "cell_type": "code",
   "execution_count": 31,
   "metadata": {},
   "outputs": [],
   "source": [
    "# save\n",
    "def save_data(data, save_name):\n",
    "    df = pandas.DataFrame(data, columns=['y','u','t'])\n",
    "    df.to_csv(save_name)\n",
    "    return None"
   ]
  },
  {
   "cell_type": "code",
   "execution_count": 32,
   "metadata": {},
   "outputs": [],
   "source": [
    "def estimate(model, tech, u):\n",
    "    \n",
    "\n",
    "\n",
    "\n",
    "\n",
    "\n",
    "\n",
    "\n",
    "\n",
    "\n",
    "\n",
    "\n",
    "\n",
    "\n",
    "\n"
   ]
  }
 ],
 "metadata": {
  "kernelspec": {
   "display_name": "Python 3",
   "language": "python",
   "name": "python3"
  },
  "language_info": {
   "codemirror_mode": {
    "name": "ipython",
    "version": 3
   },
   "file_extension": ".py",
   "mimetype": "text/x-python",
   "name": "python",
   "nbconvert_exporter": "python",
   "pygments_lexer": "ipython3",
   "version": "3.7.4"
  }
 },
 "nbformat": 4,
 "nbformat_minor": 4
}
