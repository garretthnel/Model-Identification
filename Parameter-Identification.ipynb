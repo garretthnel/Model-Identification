{
 "cells": [
  {
   "cell_type": "code",
   "execution_count": 33,
   "metadata": {},
   "outputs": [],
   "source": [
    "# imports\n",
    "from inspect import signature\n",
    "import control\n",
    "import numpy\n",
    "from matplotlib import pyplot as plt\n",
    "import scipy\n",
    "import timeit\n",
    "from ipywidgets import interact, interactive, interact_manual\n",
    "from IPython.display import display\n",
    "import IPython.display as dis\n",
    "import ipywidgets as wid"
   ]
  },
  {
   "cell_type": "code",
   "execution_count": 65,
   "metadata": {},
   "outputs": [],
   "source": [
    "# inputs\n",
    "def step(t, start, stop):\n",
    "    if t<start:\n",
    "        return 0\n",
    "    else:\n",
    "        return 1\n",
    "    #     return numpy.concatenate((numpy.array([0 for i in range(s)]), numpy.array([1 for i in range(l)])), axis=None)\n",
    "\n",
    "\n",
    "def rect(t, start, drop, stop):\n",
    "    if t>=start and t<stop:\n",
    "        return 1\n",
    "    else:\n",
    "        return 0\n",
    "    #     return numpy.concatenate((numpy.array([0 for i in range(s)]), numpy.array([1 for i in range(l)]), numpy.array([0 for i in range(f)])), axis=None)\n",
    "\n",
    "\n",
    "def doublet(t, start, drop, rise, stop):\n",
    "    if t>=start and t<drop:\n",
    "        return 1\n",
    "    elif t>=drop and t<rise:\n",
    "        return -1\n",
    "    else:\n",
    "        return 0\n",
    "    #     return numpy.concatenate((numpy.array([0 for i in range(s)]), numpy.array([1 for i in range(l1)]), numpy.array([-1 for i in range(l2)]), numpy.array([0 for i in range(f)])), axis=None)\n",
    "    \n",
    "input_dict = {'Step': step, \n",
    "              'Rect': rect, \n",
    "              'Doublet': doublet}"
   ]
  },
  {
   "cell_type": "code",
   "execution_count": 3,
   "metadata": {},
   "outputs": [],
   "source": [
    "# read data\n",
    "def read(file):\n",
    "    df = pandas.read_csv(file)\n",
    "    ydata = df.y.values - df.y[0]\n",
    "    udata = df.u.values - df.u[0]\n",
    "    tdata = df.t.values\n",
    "    return [ydata, udata, tdata]"
   ]
  },
  {
   "cell_type": "code",
   "execution_count": 4,
   "metadata": {},
   "outputs": [],
   "source": [
    "# system\n",
    "\n",
    "# def FO(u, mv, uv, l):\n",
    "#     K, tau = mv\n",
    "#     ts = numpy.linspace(0,l)\n",
    "#     dt = ts[1]\n",
    "#     y = 0\n",
    "#     ys = []\n",
    "#     for t in ts:\n",
    "#         dydt = -1/tau*y + 1/tau*u(t, up)\n",
    "#         y += dydt*dt\n",
    "#         ys.append(y)\n",
    "#     return ys\n",
    "\n",
    "def FO(K, τ):\n",
    "    return control.tf(K, [τ, 1])\n",
    "\n",
    "def create_system(Numerator, Denominator):\n",
    "    return control.tf(Numerator, Denominator)\n",
    "    \n",
    "    \n",
    "    \n",
    "# -convert to statespace and integrate\n",
    "\n",
    "system_dict = {'First Order': FO,\n",
    "              'Create System': create_system}"
   ]
  },
  {
   "cell_type": "code",
   "execution_count": 5,
   "metadata": {},
   "outputs": [],
   "source": [
    "# Techniques\n",
    "\n",
    "def DE(function, bounds):\n",
    "    return scipy.optimize.differential_evolution(function, bounds)\n",
    "    \n",
    "tech_dict = {'Differential Evolution': DE}"
   ]
  },
  {
   "cell_type": "code",
   "execution_count": 66,
   "metadata": {},
   "outputs": [
    {
     "data": {
      "application/vnd.jupyter.widget-view+json": {
       "model_id": "aeae22f2ea964ebf923826d05032872e",
       "version_major": 2,
       "version_minor": 0
      },
      "text/plain": [
       "interactive(children=(Dropdown(description='input', options=('Step', 'Rect', 'Doublet'), value='Step'), Dropdo…"
      ]
     },
     "metadata": {},
     "output_type": "display_data"
    },
    {
     "data": {
      "text/plain": [
       "<function __main__.sim(input='step', system='Create System', technique='Differential Evolution')>"
      ]
     },
     "execution_count": 66,
     "metadata": {},
     "output_type": "execute_result"
    }
   ],
   "source": [
    "interact(sim, \n",
    "         input=[names for names,dict in input_dict.items()], \n",
    "         system=[names for names,dict in system_dict.items()], \n",
    "         technique=[names for names,dict in tech_dict.items()])"
   ]
  },
  {
   "cell_type": "code",
   "execution_count": 63,
   "metadata": {},
   "outputs": [],
   "source": [
    "def sim(input='step', system='Create System', technique='Differential Evolution'):\n",
    "    \n",
    "    \n",
    "    \n",
    "    c_input = input\n",
    "    u = input_dict[c_input]\n",
    "    u_sig = u.__code__.co_varnames[1:]\n",
    "    c_input_params = {}\n",
    "    c_input_wid = {}\n",
    "    for var in u_sig:\n",
    "        c_input_wid[var] = w = wid.IntSlider(value=1, min=0, max=600, description=var, disabled=False)\n",
    "        display(w)\n",
    "    \n",
    "    c_system = system\n",
    "    sys = system_dict[c_system]\n",
    "    sys_sig = sys.__code__.co_varnames\n",
    "    c_sys_params = {}\n",
    "    c_sys_wid = {}\n",
    "    for var in sys_sig:\n",
    "        c_sys_wid[var] = w = wid.Text(value='1', description=var, disabled=False)\n",
    "        display(w)\n",
    "\n",
    "    run_sim = wid.Button(description=\"Run\")\n",
    "    run_est = wid.Button(description=\"Estimate\")\n",
    "    test_button = wid.Button(description='Test')\n",
    "    output = wid.Output()\n",
    "    \n",
    "    display(run_sim, output)\n",
    "#     display(test_button, output)\n",
    "    \n",
    "#     fig = plt.figure()\n",
    "#     ax = fig.add_subplot(1,1,1)\n",
    "\n",
    "    def run_sim_clicked(b):\n",
    "        \n",
    "        with output:\n",
    "            dis.clear_output(True)\n",
    "            print(\"Click\")\n",
    "            for var in u_sig:\n",
    "                c_input_params[var] = c_input_wid[var].value\n",
    "            \n",
    "            for var in sys_sig:\n",
    "                c_sys_params[var] = [float(i) for i in c_sys_wid[var].value.split(', ')]\n",
    "            \n",
    "            ts = numpy.linspace(0, c_input_params['stop'])\n",
    "            us = [u(t, *c_input_params.values()) for t in ts]\n",
    "            system = create_system(*c_sys_params.values()) \n",
    "            tm, ym, xm = control.forced_response(system, T=ts, U=us)\n",
    "            plt.plot(tm, ym, '--', label=\"Real\")\n",
    "            plt.legend()            \n",
    "            plt.show()\n",
    "        \n",
    "#     def test_click(b):\n",
    "#         with output:\n",
    "#             dis.clear_output(True)\n",
    "#             print(f'test{numpy.random.rand()}')\n",
    "    \n",
    "    run_sim.on_click(run_sim_clicked)\n",
    "#     test_button.on_click(test_click)\n",
    "    \n",
    "    \n",
    "    def err(params):\n",
    "        num = [params[0]]\n",
    "        den = params[1:]\n",
    "        est_sys = control.tf(num, den)\n",
    "        tsim, ysim, xsim = control.forced_response(est_sys, T=ts, U=us)\n",
    "        return sum((ym - ysim)**2)\n",
    "    \n",
    "    def res(params):\n",
    "        num = [params[0]]\n",
    "        den = params[1:]\n",
    "        est_sys = control.tf(num, den)\n",
    "        tsim, ysim, xsim = control.forced_response(est_sys, T=ts, U=us)\n",
    "        plt.plot(tm, ysim, label=\"Estimation\")\n",
    "        return None\n",
    "\n",
    "    c_tech = technique\n",
    "    tech = tech_dict[c_tech]\n",
    "    st = timeit.default_timer()\n",
    "#     coeff = tech(err, [(0.1, 20), (0.1, 20), (0.1, 20)]).x\n",
    "    print(\"success\")\n",
    "    et = timeit.default_timer()\n",
    "    \n",
    "#     print(\"Parameters estimated as {} in {} seconds\".format(coeff/coeff[-1], et-st))\n",
    "#     print(\"Time taken: {}\".format(et-st))\n",
    "#     res(coeff)\n",
    "    "
   ]
  },
  {
   "cell_type": "code",
   "execution_count": 85,
   "metadata": {},
   "outputs": [],
   "source": [
    "d = {}\n",
    "d['test'] = [1,0]\n",
    "d['test2'] = 2"
   ]
  },
  {
   "cell_type": "code",
   "execution_count": 80,
   "metadata": {},
   "outputs": [
    {
     "data": {
      "text/plain": [
       "([1, 0], 2)"
      ]
     },
     "execution_count": 80,
     "metadata": {},
     "output_type": "execute_result"
    }
   ],
   "source": [
    "t = [d[k] for k in d.keys()]\n",
    "def tt(p1, p2):\n",
    "    return p1, p2\n",
    "tt(*t)"
   ]
  },
  {
   "cell_type": "code",
   "execution_count": 81,
   "metadata": {},
   "outputs": [
    {
     "data": {
      "text/plain": [
       "([1, 0], 2)"
      ]
     },
     "execution_count": 81,
     "metadata": {},
     "output_type": "execute_result"
    }
   ],
   "source": [
    "\n",
    "tt(*d.values())"
   ]
  },
  {
   "cell_type": "code",
   "execution_count": 112,
   "metadata": {},
   "outputs": [
    {
     "data": {
      "text/plain": [
       "['1', '0']"
      ]
     },
     "execution_count": 112,
     "metadata": {},
     "output_type": "execute_result"
    }
   ],
   "source": [
    "test3 = '1, 0'.split(', ')\n",
    "test3"
   ]
  }
 ],
 "metadata": {
  "kernelspec": {
   "display_name": "Python 3",
   "language": "python",
   "name": "python3"
  },
  "language_info": {
   "codemirror_mode": {
    "name": "ipython",
    "version": 3
   },
   "file_extension": ".py",
   "mimetype": "text/x-python",
   "name": "python",
   "nbconvert_exporter": "python",
   "pygments_lexer": "ipython3",
   "version": "3.7.4"
  }
 },
 "nbformat": 4,
 "nbformat_minor": 4
}
