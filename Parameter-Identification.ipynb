{
 "cells": [
  {
   "cell_type": "code",
   "execution_count": 1,
   "metadata": {},
   "outputs": [],
   "source": [
    "# imports\n",
    "from inspect import signature\n",
    "\n",
    "import scipy\n",
    "import psopy\n",
    "import gamod\n",
    "import tsmod\n",
    "import sysid\n",
    "import ssid\n",
    "\n",
    "from ipywidgets import interact, interactive, interact_manual\n",
    "from IPython.display import display\n",
    "import IPython.display as dis\n",
    "import ipywidgets as wid\n",
    "\n",
    "import time\n",
    "import os.path\n",
    "\n",
    "import random\n",
    "import pandas\n",
    "import numpy\n",
    "import control\n",
    "from matplotlib import pyplot as plt"
   ]
  },
  {
   "cell_type": "code",
   "execution_count": 2,
   "metadata": {},
   "outputs": [],
   "source": [
    "# inputs\n",
    "def step(t, start, stop):\n",
    "    if t<start:\n",
    "        return 0\n",
    "    else:\n",
    "        return 1\n",
    "\n",
    "def rect(t, start, drop, stop):\n",
    "    if t>=start and t<stop:\n",
    "        return 1\n",
    "    else:\n",
    "        return 0\n",
    "\n",
    "def doublet(t, start, drop, rise, stop):\n",
    "    if t>=start and t<drop:\n",
    "        return 1\n",
    "    elif t>=drop and t<rise:\n",
    "        return -1\n",
    "    else:\n",
    "        return 0\n",
    "    \n",
    "input_dict = {'Step': step, \n",
    "              'Rect': rect, \n",
    "              'Doublet': doublet}"
   ]
  },
  {
   "cell_type": "code",
   "execution_count": 3,
   "metadata": {},
   "outputs": [],
   "source": [
    "# read data\n",
    "def load_data(file):\n",
    "    if file == '':\n",
    "        print('Please enter a file name to load.')\n",
    "        return [0, 0, 0]\n",
    "    else:\n",
    "        df = pandas.read_csv(f'{file}.csv')\n",
    "        ydata = df['Y'] - df['Y'][0]\n",
    "        udata = df['U'] - df['U'][0]\n",
    "        tdata = df['Time']\n",
    "        return [ydata, udata, tdata]\n",
    "\n",
    "# save data\n",
    "def save_data(d, save_name):\n",
    "    t, y, u, yr, dur, coeff, div = d\n",
    "    \n",
    "    dd = {'Time': t,\n",
    "          'Y': y,\n",
    "          'U': u,\n",
    "          'Y Estimate': yr}\n",
    "    \n",
    "    df = pandas.DataFrame(data=dd)\n",
    "    \n",
    "    if save_name == '':\n",
    "        save_name = 'New_Save'\n",
    "    \n",
    "    while os.path.isfile(f'{save_name}.csv'):\n",
    "        save_name = save_name + \"(1)\"\n",
    "    \n",
    "    df.to_csv(f'{save_name}.csv')\n",
    "    \n",
    "    dr = {'Run Time (s)': dur}\n",
    "    \n",
    "    for i in range(len(coeff)):\n",
    "        if i < div:\n",
    "            dr[f'Numerator {i}'] = [coeff[i]]\n",
    "        else:\n",
    "            dr[f'Denominator {i-div}'] = [coeff[i]]\n",
    "            \n",
    "    dfr = pandas.DataFrame(data=dr)\n",
    "    dfr.to_csv(f'{save_name}_results.csv')\n",
    "    \n",
    "    return print(f'{save_name} successfully saved.')"
   ]
  },
  {
   "cell_type": "code",
   "execution_count": 4,
   "metadata": {},
   "outputs": [],
   "source": [
    "#  noise\n",
    "\n",
    "def uniform_noise(ydata, Magnitude): #currently does not include 1\n",
    "    return [ydata[i] + random.uniform(-1,1)*Magnitude for i in range(len(ydata))]\n",
    "\n",
    "def pseudo_noise(ydata, Magnitude): #currently only returns int values\n",
    "    return [ydata[i] + random.randrange(start=-1,stop=1)*Magnitude for i in range(len(ydata))]\n",
    "\n",
    "def no_noise(ydata):\n",
    "    return ydata\n",
    "\n",
    "noise_dict = {'None': no_noise,\n",
    "              'Uniform': uniform_noise,\n",
    "              'Non-uniform': pseudo_noise}"
   ]
  },
  {
   "cell_type": "code",
   "execution_count": 5,
   "metadata": {},
   "outputs": [],
   "source": [
    "# system\n",
    "def create_system(Numerator, Denominator):\n",
    "    return control.tf(Numerator, Denominator)"
   ]
  },
  {
   "cell_type": "code",
   "execution_count": 13,
   "metadata": {},
   "outputs": [
    {
     "data": {
      "text/plain": [
       "(array([0.36787944, 0.26424112]), array([ 1.        , -0.36787944]))"
      ]
     },
     "execution_count": 13,
     "metadata": {},
     "output_type": "execute_result"
    },
    {
     "data": {
      "image/png": "[encoded data removed]",
      "text/plain": [
       "<Figure size 432x288 with 1 Axes>"
      ]
     },
     "metadata": {
      "needs_background": "light"
     },
     "output_type": "display_data"
    }
   ],
   "source": [
    "# test ssid\n",
    "\n",
    "ts = range(100)\n",
    "us = [step(t, 20, 100) for t in ts]\n",
    "_, ys, _ = control.forced_response(control.tf([1], [1,1]), T=ts, U=us)\n",
    "plt.plot(ts, ys)\n",
    "\n",
    "def subspace_id(y, u):\n",
    "    ts = range(100)\n",
    "    ss1_id = sysid.subspace_det_algo1(y, u, f=2, p=2, s_tol=1e-2, dt=0.1)\n",
    "    A, B, C, D = ss1_id.A, ss1_id.B, ss1_id.C, ss1_id.D\n",
    "    tf = scipy.signal.lti(A, B, C, D).to_tf()\n",
    "    _, ys, _ = control.forced_response(control.tf(tf.num, tf.den), T=ts, U=us)\n",
    "    plt.plot(ts, ys) \n",
    "    return tf.num, tf.den\n",
    "\n",
    "subspace_id(ys, us)\n",
    "\n",
    "# this module gives questionable results"
   ]
  },
  {
   "cell_type": "code",
   "execution_count": 15,
   "metadata": {},
   "outputs": [
    {
     "ename": "TypeError",
     "evalue": "'float' object cannot be interpreted as an integer",
     "output_type": "error",
     "traceback": [
      "\u001b[1;31m---------------------------------------------------------------------------\u001b[0m",
      "\u001b[1;31mTypeError\u001b[0m                                 Traceback (most recent call last)",
      "\u001b[1;32m<ipython-input-15-9383754168c9>\u001b[0m in \u001b[0;36m<module>\u001b[1;34m\u001b[0m\n\u001b[0;32m     14\u001b[0m     \u001b[1;32mreturn\u001b[0m \u001b[0mtf\u001b[0m\u001b[1;33m.\u001b[0m\u001b[0mnum\u001b[0m\u001b[1;33m,\u001b[0m \u001b[0mtf\u001b[0m\u001b[1;33m.\u001b[0m\u001b[0mden\u001b[0m\u001b[1;33m\u001b[0m\u001b[1;33m\u001b[0m\u001b[0m\n\u001b[0;32m     15\u001b[0m \u001b[1;33m\u001b[0m\u001b[0m\n\u001b[1;32m---> 16\u001b[1;33m \u001b[0msubspace_id\u001b[0m\u001b[1;33m(\u001b[0m\u001b[0mys\u001b[0m\u001b[1;33m,\u001b[0m \u001b[0mus\u001b[0m\u001b[1;33m)\u001b[0m\u001b[1;33m\u001b[0m\u001b[1;33m\u001b[0m\u001b[0m\n\u001b[0m\u001b[0;32m     17\u001b[0m \u001b[1;33m\u001b[0m\u001b[0m\n\u001b[0;32m     18\u001b[0m \u001b[1;31m# \"TypeError: 'float' object cannot be interpreted as an integer\" but I cannot see where to correct it\u001b[0m\u001b[1;33m\u001b[0m\u001b[1;33m\u001b[0m\u001b[1;33m\u001b[0m\u001b[0m\n",
      "\u001b[1;32m<ipython-input-15-9383754168c9>\u001b[0m in \u001b[0;36msubspace_id\u001b[1;34m(y, u)\u001b[0m\n\u001b[0;32m      8\u001b[0m \u001b[1;32mdef\u001b[0m \u001b[0msubspace_id\u001b[0m\u001b[1;33m(\u001b[0m\u001b[0my\u001b[0m\u001b[1;33m,\u001b[0m \u001b[0mu\u001b[0m\u001b[1;33m)\u001b[0m\u001b[1;33m:\u001b[0m\u001b[1;33m\u001b[0m\u001b[1;33m\u001b[0m\u001b[0m\n\u001b[0;32m      9\u001b[0m     \u001b[0mts\u001b[0m \u001b[1;33m=\u001b[0m \u001b[0mrange\u001b[0m\u001b[1;33m(\u001b[0m\u001b[1;36m100\u001b[0m\u001b[1;33m)\u001b[0m\u001b[1;33m\u001b[0m\u001b[1;33m\u001b[0m\u001b[0m\n\u001b[1;32m---> 10\u001b[1;33m     \u001b[0mA\u001b[0m\u001b[1;33m,\u001b[0m \u001b[0mB\u001b[0m\u001b[1;33m,\u001b[0m \u001b[0mC\u001b[0m\u001b[1;33m,\u001b[0m \u001b[0mD\u001b[0m\u001b[1;33m,\u001b[0m \u001b[0mCov\u001b[0m\u001b[1;33m,\u001b[0m \u001b[0mS\u001b[0m \u001b[1;33m=\u001b[0m \u001b[0mssid\u001b[0m\u001b[1;33m.\u001b[0m\u001b[0mN4SID\u001b[0m\u001b[1;33m(\u001b[0m\u001b[0mnumpy\u001b[0m\u001b[1;33m.\u001b[0m\u001b[0marray\u001b[0m\u001b[1;33m(\u001b[0m\u001b[1;33m[\u001b[0m\u001b[0mu\u001b[0m\u001b[1;33m]\u001b[0m\u001b[1;33m)\u001b[0m\u001b[1;33m.\u001b[0m\u001b[0mT\u001b[0m\u001b[1;33m,\u001b[0m \u001b[0mnumpy\u001b[0m\u001b[1;33m.\u001b[0m\u001b[0marray\u001b[0m\u001b[1;33m(\u001b[0m\u001b[1;33m[\u001b[0m\u001b[0my\u001b[0m\u001b[1;33m]\u001b[0m\u001b[1;33m)\u001b[0m\u001b[1;33m.\u001b[0m\u001b[0mT\u001b[0m\u001b[1;33m,\u001b[0m \u001b[1;36m10\u001b[0m\u001b[1;33m,\u001b[0m \u001b[1;36m10\u001b[0m\u001b[1;33m,\u001b[0m \u001b[1;36m4\u001b[0m\u001b[1;33m)\u001b[0m\u001b[1;33m\u001b[0m\u001b[1;33m\u001b[0m\u001b[0m\n\u001b[0m\u001b[0;32m     11\u001b[0m     \u001b[0mtf\u001b[0m \u001b[1;33m=\u001b[0m \u001b[0mscipy\u001b[0m\u001b[1;33m.\u001b[0m\u001b[0msignal\u001b[0m\u001b[1;33m.\u001b[0m\u001b[0mlti\u001b[0m\u001b[1;33m(\u001b[0m\u001b[0mA\u001b[0m\u001b[1;33m,\u001b[0m \u001b[0mB\u001b[0m\u001b[1;33m,\u001b[0m \u001b[0mC\u001b[0m\u001b[1;33m,\u001b[0m \u001b[0mD\u001b[0m\u001b[1;33m)\u001b[0m\u001b[1;33m.\u001b[0m\u001b[0mto_tf\u001b[0m\u001b[1;33m(\u001b[0m\u001b[1;33m)\u001b[0m\u001b[1;33m\u001b[0m\u001b[1;33m\u001b[0m\u001b[0m\n\u001b[0;32m     12\u001b[0m     \u001b[0m_\u001b[0m\u001b[1;33m,\u001b[0m \u001b[0mys\u001b[0m\u001b[1;33m,\u001b[0m \u001b[0m_\u001b[0m \u001b[1;33m=\u001b[0m \u001b[0mcontrol\u001b[0m\u001b[1;33m.\u001b[0m\u001b[0mforced_response\u001b[0m\u001b[1;33m(\u001b[0m\u001b[0mcontrol\u001b[0m\u001b[1;33m.\u001b[0m\u001b[0mtf\u001b[0m\u001b[1;33m(\u001b[0m\u001b[0mtf\u001b[0m\u001b[1;33m.\u001b[0m\u001b[0mnum\u001b[0m\u001b[1;33m,\u001b[0m \u001b[0mtf\u001b[0m\u001b[1;33m.\u001b[0m\u001b[0mden\u001b[0m\u001b[1;33m)\u001b[0m\u001b[1;33m,\u001b[0m \u001b[0mT\u001b[0m\u001b[1;33m=\u001b[0m\u001b[0mts\u001b[0m\u001b[1;33m,\u001b[0m \u001b[0mU\u001b[0m\u001b[1;33m=\u001b[0m\u001b[0mus\u001b[0m\u001b[1;33m)\u001b[0m\u001b[1;33m\u001b[0m\u001b[1;33m\u001b[0m\u001b[0m\n",
      "\u001b[1;32m~\\Documents\\Model-Identification\\ssid.py\u001b[0m in \u001b[0;36mN4SID\u001b[1;34m(u, y, NumRows, NumCols, NSig, require_stable)\u001b[0m\n\u001b[0;32m    271\u001b[0m                \u001b[1;34m'Dimension'\u001b[0m\u001b[1;33m:\u001b[0m\u001b[0mNSig\u001b[0m\u001b[1;33m,\u001b[0m\u001b[1;33m\u001b[0m\u001b[1;33m\u001b[0m\u001b[0m\n\u001b[0;32m    272\u001b[0m                \u001b[1;34m'Rows'\u001b[0m\u001b[1;33m:\u001b[0m\u001b[0mNumRows\u001b[0m\u001b[1;33m,\u001b[0m\u001b[1;33m\u001b[0m\u001b[1;33m\u001b[0m\u001b[0m\n\u001b[1;32m--> 273\u001b[1;33m                'Columns':NumCols}\n\u001b[0m\u001b[0;32m    274\u001b[0m \u001b[1;33m\u001b[0m\u001b[0m\n\u001b[0;32m    275\u001b[0m     \u001b[0mGammaDict\u001b[0m\u001b[1;33m,\u001b[0m\u001b[0mS\u001b[0m \u001b[1;33m=\u001b[0m \u001b[0mpreProcess\u001b[0m\u001b[1;33m(\u001b[0m\u001b[0mu\u001b[0m\u001b[1;33m,\u001b[0m\u001b[0my\u001b[0m\u001b[1;33m,\u001b[0m\u001b[0mNumDict\u001b[0m\u001b[1;33m)\u001b[0m\u001b[1;33m\u001b[0m\u001b[1;33m\u001b[0m\u001b[0m\n",
      "\u001b[1;32m~\\Documents\\Model-Identification\\ssid.py\u001b[0m in \u001b[0;36mpreProcess\u001b[1;34m(u, y, NumDict)\u001b[0m\n\u001b[0;32m    123\u001b[0m     \u001b[0mNumOutputs\u001b[0m \u001b[1;33m=\u001b[0m \u001b[0my\u001b[0m\u001b[1;33m.\u001b[0m\u001b[0mshape\u001b[0m\u001b[1;33m[\u001b[0m\u001b[1;36m0\u001b[0m\u001b[1;33m]\u001b[0m\u001b[1;33m\u001b[0m\u001b[1;33m\u001b[0m\u001b[0m\n\u001b[0;32m    124\u001b[0m     \u001b[0mNumRows\u001b[0m \u001b[1;33m=\u001b[0m \u001b[0mNumDict\u001b[0m\u001b[1;33m[\u001b[0m\u001b[1;34m'Rows'\u001b[0m\u001b[1;33m]\u001b[0m\u001b[1;33m\u001b[0m\u001b[1;33m\u001b[0m\u001b[0m\n\u001b[1;32m--> 125\u001b[1;33m     \u001b[0mNumCols\u001b[0m \u001b[1;33m=\u001b[0m \u001b[0mNumDict\u001b[0m\u001b[1;33m[\u001b[0m\u001b[1;34m'Columns'\u001b[0m\u001b[1;33m]\u001b[0m\u001b[1;33m\u001b[0m\u001b[1;33m\u001b[0m\u001b[0m\n\u001b[0m\u001b[0;32m    126\u001b[0m     \u001b[0mNSig\u001b[0m \u001b[1;33m=\u001b[0m \u001b[0mNumDict\u001b[0m\u001b[1;33m[\u001b[0m\u001b[1;34m'Dimension'\u001b[0m\u001b[1;33m]\u001b[0m\u001b[1;33m\u001b[0m\u001b[1;33m\u001b[0m\u001b[0m\n\u001b[0;32m    127\u001b[0m     \u001b[0mUPast\u001b[0m\u001b[1;33m,\u001b[0m\u001b[0mUFuture\u001b[0m \u001b[1;33m=\u001b[0m \u001b[0mgetHankelMatrices\u001b[0m\u001b[1;33m(\u001b[0m\u001b[0mu\u001b[0m\u001b[1;33m,\u001b[0m\u001b[0mNumRows\u001b[0m\u001b[1;33m,\u001b[0m\u001b[0mNumCols\u001b[0m\u001b[1;33m)\u001b[0m\u001b[1;33m\u001b[0m\u001b[1;33m\u001b[0m\u001b[0m\n",
      "\u001b[1;32m~\\Documents\\Model-Identification\\ssid.py\u001b[0m in \u001b[0;36mgetHankelMatrices\u001b[1;34m(x, NumRows, NumCols, blockWidth)\u001b[0m\n\u001b[0;32m    110\u001b[0m \u001b[1;33m\u001b[0m\u001b[0m\n\u001b[0;32m    111\u001b[0m     \u001b[0mbh\u001b[0m \u001b[1;33m=\u001b[0m \u001b[0mlen\u001b[0m\u001b[1;33m(\u001b[0m\u001b[0mx\u001b[0m\u001b[1;33m)\u001b[0m\u001b[1;33m\u001b[0m\u001b[1;33m\u001b[0m\u001b[0m\n\u001b[1;32m--> 112\u001b[1;33m     \u001b[0mbw\u001b[0m \u001b[1;33m=\u001b[0m \u001b[1;36m1\u001b[0m\u001b[1;33m\u001b[0m\u001b[1;33m\u001b[0m\u001b[0m\n\u001b[0m\u001b[0;32m    113\u001b[0m     \u001b[0mxPastLeft\u001b[0m \u001b[1;33m=\u001b[0m \u001b[0mblockTranspose\u001b[0m\u001b[1;33m(\u001b[0m\u001b[0mx\u001b[0m\u001b[1;33m[\u001b[0m\u001b[1;33m:\u001b[0m\u001b[1;33m,\u001b[0m\u001b[1;33m:\u001b[0m\u001b[0mNumRows\u001b[0m\u001b[1;33m]\u001b[0m\u001b[1;33m,\u001b[0m\u001b[0mblockHeight\u001b[0m\u001b[1;33m=\u001b[0m\u001b[0mbh\u001b[0m\u001b[1;33m,\u001b[0m\u001b[0mblockWidth\u001b[0m\u001b[1;33m=\u001b[0m\u001b[0mbw\u001b[0m\u001b[1;33m)\u001b[0m\u001b[1;33m\u001b[0m\u001b[1;33m\u001b[0m\u001b[0m\n\u001b[0;32m    114\u001b[0m     \u001b[0mXPast\u001b[0m \u001b[1;33m=\u001b[0m \u001b[0mblockHankel\u001b[0m\u001b[1;33m(\u001b[0m\u001b[0mxPastLeft\u001b[0m\u001b[1;33m,\u001b[0m\u001b[0mx\u001b[0m\u001b[1;33m[\u001b[0m\u001b[1;33m:\u001b[0m\u001b[1;33m,\u001b[0m\u001b[0mNumRows\u001b[0m\u001b[1;33m-\u001b[0m\u001b[1;36m1\u001b[0m\u001b[1;33m:\u001b[0m\u001b[0mNumRows\u001b[0m\u001b[1;33m-\u001b[0m\u001b[1;36m1\u001b[0m\u001b[1;33m+\u001b[0m\u001b[0mNumCols\u001b[0m\u001b[1;33m]\u001b[0m\u001b[1;33m)\u001b[0m\u001b[1;33m\u001b[0m\u001b[1;33m\u001b[0m\u001b[0m\n",
      "\u001b[1;32m~\\Documents\\Model-Identification\\ssid.py\u001b[0m in \u001b[0;36mblockHankel\u001b[1;34m(Hleft, Hbot, blockHeight)\u001b[0m\n\u001b[0;32m     73\u001b[0m         \u001b[0mblockHeight\u001b[0m \u001b[1;33m=\u001b[0m \u001b[0mlen\u001b[0m\u001b[1;33m(\u001b[0m\u001b[0mHbot\u001b[0m\u001b[1;33m)\u001b[0m\u001b[1;33m\u001b[0m\u001b[1;33m\u001b[0m\u001b[0m\n\u001b[0;32m     74\u001b[0m         \u001b[0mNr\u001b[0m \u001b[1;33m=\u001b[0m \u001b[0mlen\u001b[0m\u001b[1;33m(\u001b[0m\u001b[0mHleft\u001b[0m\u001b[1;33m)\u001b[0m \u001b[1;33m/\u001b[0m \u001b[0mblockHeight\u001b[0m\u001b[1;33m\u001b[0m\u001b[1;33m\u001b[0m\u001b[0m\n\u001b[1;32m---> 75\u001b[1;33m         \u001b[0mNc\u001b[0m \u001b[1;33m=\u001b[0m \u001b[0mHbot\u001b[0m\u001b[1;33m.\u001b[0m\u001b[0mshape\u001b[0m\u001b[1;33m[\u001b[0m\u001b[1;36m1\u001b[0m\u001b[1;33m]\u001b[0m \u001b[1;33m/\u001b[0m \u001b[0mblockWidth\u001b[0m\u001b[1;33m\u001b[0m\u001b[1;33m\u001b[0m\u001b[0m\n\u001b[0m\u001b[0;32m     76\u001b[0m \u001b[1;33m\u001b[0m\u001b[0m\n\u001b[0;32m     77\u001b[0m     \u001b[0mLeftBlock\u001b[0m \u001b[1;33m=\u001b[0m \u001b[0mnp\u001b[0m\u001b[1;33m.\u001b[0m\u001b[0mzeros\u001b[0m\u001b[1;33m(\u001b[0m\u001b[1;33m(\u001b[0m\u001b[0mNr\u001b[0m\u001b[1;33m,\u001b[0m\u001b[0mblockHeight\u001b[0m\u001b[1;33m,\u001b[0m\u001b[0mblockWidth\u001b[0m\u001b[1;33m)\u001b[0m\u001b[1;33m)\u001b[0m\u001b[1;33m\u001b[0m\u001b[1;33m\u001b[0m\u001b[0m\n",
      "\u001b[1;31mTypeError\u001b[0m: 'float' object cannot be interpreted as an integer"
     ]
    },
    {
     "data": {
      "image/png": "[encoded data removed]",
      "text/plain": [
       "<Figure size 432x288 with 1 Axes>"
      ]
     },
     "metadata": {
      "needs_background": "light"
     },
     "output_type": "display_data"
    }
   ],
   "source": [
    "# try a different module\n",
    "\n",
    "ts = range(100)\n",
    "us = [step(t, 20, 100) for t in ts]\n",
    "_, ys, _ = control.forced_response(control.tf([1], [1,1]), T=ts, U=us)\n",
    "plt.plot(ts, ys)\n",
    "\n",
    "def subspace_id(y, u):\n",
    "    ts = range(100)\n",
    "    A, B, C, D, Cov, S = ssid.N4SID(numpy.array([u]).T, numpy.array([y]).T, 10, 10, 4)\n",
    "    tf = scipy.signal.lti(A, B, C, D).to_tf()\n",
    "    _, ys, _ = control.forced_response(control.tf(tf.num, tf.den), T=ts, U=us)\n",
    "    plt.plot(ts, ys) \n",
    "    return tf.num, tf.den\n",
    "\n",
    "subspace_id(ys, us)\n",
    "\n",
    "# \"TypeError: 'float' object cannot be interpreted as an integer\" but I cannot see where to correct it"
   ]
  },
  {
   "cell_type": "code",
   "execution_count": 134,
   "metadata": {},
   "outputs": [],
   "source": [
    "# Techniques \n",
    "\n",
    "def subspace_id(y, u):\n",
    "    ss1_id = sysid.subspace_det_algo1(y, u, f=5, p=5, s_tol=1e-1, dt=1)\n",
    "    return ss1_id \n",
    "\n",
    "def DE(function, Bounds):\n",
    "    return scipy.optimize.differential_evolution(function, Bounds).x\n",
    "\n",
    "def LS(function, Initial_Guess):\n",
    "    return scipy.optimize.least_squares(function, [i[0] for i in Initial_Guess]).x\n",
    "\n",
    "def MIN(function, Initial_Guess):\n",
    "    return scipy.optimize.minimize(function, [i[0] for i in Initial_Guess]).x\n",
    "\n",
    "def PSO(function, Initial_Bounds):\n",
    "    return psopy.minimize(function, numpy.array([numpy.random.uniform(*b, 10) for b in Initial_Bounds]).T).x\n",
    "\n",
    "def GA(function, Lengths):\n",
    "    print(Lengths)\n",
    "    return gamod.genetic_algorithm(function, [int(i[0]) for i in Lengths])\n",
    "\n",
    "def TS(function, Bounds):\n",
    "    return tsmod.tabu_search(function, Bounds)\n",
    "\n",
    "# def SSID(function, ):\n",
    "#     return\n",
    "    \n",
    "tech_dict = {'Differential Evolution': DE,\n",
    "            'Least Squares': LS,\n",
    "            'Scipy Minimize': MIN,\n",
    "            'Particle Swarm': PSO,\n",
    "            'Genetic Algorithm': GA,\n",
    "            'Tabu Search': TS}\n",
    "\n",
    "# any other technique can be added here as long as the signature is in the form [function, parameters] - the function has to be added to the dictionary manually with the appropriate name."
   ]
  },
  {
   "cell_type": "code",
   "execution_count": 135,
   "metadata": {},
   "outputs": [],
   "source": [
    "# Misc\n",
    "\n",
    "def err(params, ts, ym, us, div):\n",
    "    num = params[:div]\n",
    "    den = params[div:]\n",
    "    est_sys = control.tf(num, den)\n",
    "    tsim, ysim, xsim = control.forced_response(est_sys, T=ts, U=us)\n",
    "    return sum((ym - ysim)**2)\n",
    "\n",
    "def res(params, ts, ym, us, div):\n",
    "    num = params[:div]\n",
    "    den = params[div:]\n",
    "    est_sys = control.tf(num, den)\n",
    "    tsim, ysim, xsim = control.forced_response(est_sys, T=ts, U=us)\n",
    "    plt.plot(tsim, ysim, '--', label=\"Estimation\")\n",
    "    return ysim"
   ]
  },
  {
   "cell_type": "code",
   "execution_count": 136,
   "metadata": {},
   "outputs": [],
   "source": [
    "def sim(Input='Step', Noise=\"None\", Technique='Tabu Search'):\n",
    "\n",
    "    Load_Name = wid.Text(value='', description='Load Name', disabled=False)\n",
    "    run_load = wid.Button(description=\"Load\", disabled=False)\n",
    "    load_state = False\n",
    "    \n",
    "    def run_load_clicked(b):\n",
    "        with output:\n",
    "            dis.clear_output(True)\n",
    "            global ts, ym, us\n",
    "            ydata, udata, tdata = load_data(Load_Name.value)\n",
    "            ts, ym, us = tdata, ydata, udata\n",
    "            global load_state\n",
    "            load_state = True\n",
    "            \n",
    "            plt.plot(ts, ym, label=\"Loaded\")\n",
    "            plt.legend()\n",
    "            plt.show()\n",
    "            \n",
    "    run_load.on_click(run_load_clicked)\n",
    "    \n",
    "    u = input_dict[Input]\n",
    "    u_sig = u.__code__.co_varnames[1:]\n",
    "    c_input_params = {}\n",
    "    c_input_wid = {}\n",
    "    for var in u_sig:\n",
    "        \n",
    "        c_input_wid[var] = wid.IntSlider(value=1, min=0, max=600, description=var, disabled=False)\n",
    "        display(c_input_wid[var])\n",
    "        \n",
    "    n = noise_dict[Noise]\n",
    "    n_sig = n.__code__.co_varnames[1:]\n",
    "    c_noise_params = {}\n",
    "    c_noise_wid = {}\n",
    "    for var in n_sig:\n",
    "        c_noise_wid[var] = wid.FloatSlider(value=0, min=0, max=0.5, step=0.01, description=var, disabled=False)\n",
    "        display(c_noise_wid[var])\n",
    "    \n",
    "    sys = create_system\n",
    "    sys_sig = sys.__code__.co_varnames\n",
    "    c_sys_params = {}\n",
    "    c_sys_wid = {}\n",
    "    for var in sys_sig:\n",
    "        c_sys_wid[var] = wid.Text(value='1', description=var, disabled=False)\n",
    "        display(c_sys_wid[var])\n",
    "        \n",
    "    tech = tech_dict[Technique]\n",
    "    tech_sig = tech.__code__.co_varnames[1:]\n",
    "    for names in tech_sig:\n",
    "        display(names+\"(inputs separated by a semicolon):\")\n",
    "    \n",
    "    c_tech_wid = {}\n",
    "    for var1 in tech_sig:\n",
    "        for var2 in sys_sig:\n",
    "            var = str(var1) + str(var2)\n",
    "            c_tech_wid[var] = wid.Text(value='1', description=var2, disabled=False)\n",
    "            display(c_tech_wid[var])\n",
    "    \n",
    "    Save_Name = wid.Text(value='', description='Save Name', disabled=False)\n",
    "    display(Save_Name)\n",
    "    display(Load_Name)\n",
    "    \n",
    "    run_sim = wid.Button(description='Simulate')\n",
    "    run_est = wid.Button(description='Estimate')\n",
    "    \n",
    "    run_state = False\n",
    "    \n",
    "    output = wid.Output()\n",
    "\n",
    "    def run_sim_clicked(b):\n",
    "        with output:\n",
    "            dis.clear_output(True)\n",
    "            global ts, ym, us\n",
    "            \n",
    "            for var in u_sig:\n",
    "                c_input_params[var] = c_input_wid[var].value\n",
    "                \n",
    "            for var in n_sig:\n",
    "                c_noise_params[var] = c_noise_wid[var].value\n",
    "            \n",
    "            for var in sys_sig:\n",
    "                c_sys_params[var] = [float(i) for i in c_sys_wid[var].value.split(';')]\n",
    "            \n",
    "            ts = numpy.linspace(0, c_input_params['stop'], c_input_params['stop']*1)\n",
    "            us = [u(t, *c_input_params.values()) for t in ts]\n",
    "            \n",
    "            system = create_system(*c_sys_params.values()) \n",
    "            print(system)\n",
    "            tm, y1, xm = control.forced_response(system, T=ts, U=us)\n",
    "            \n",
    "            ym = n(y1, *c_noise_params.values())\n",
    "            \n",
    "            plt.plot(tm, ym, label=\"Real\")\n",
    "            plt.legend()            \n",
    "            plt.show()\n",
    "        \n",
    "    def run_est_clicked(b):\n",
    "        with output:\n",
    "            dis.clear_output(True)\n",
    "            arr_tech_params = []\n",
    "            orders = []\n",
    "            \n",
    "            for o, var in enumerate(c_tech_wid):\n",
    "                orders.append(len(c_tech_wid[var].value.split(';')))\n",
    "                for k in range(orders[o]):\n",
    "                    arr_tech_params.append([float(j) for j in [i.split(',') for i in c_tech_wid[var].value.split(';')][k]]) \n",
    "            \n",
    "            div = orders[0]\n",
    "            \n",
    "            def err_wrap(params):\n",
    "                return err(params, ts, ym, us, div)\n",
    "        \n",
    "            def res_wrap(params):\n",
    "                return res(params, ts, ym, us, div)\n",
    "            \n",
    "            print('Running...')\n",
    "            st = time.time()\n",
    "            coeff = tech(err_wrap, arr_tech_params)\n",
    "            et = time.time()\n",
    "            print('Done.')\n",
    "            \n",
    "            dur = et-st\n",
    "            print(\"Parameters estimated as {} in {} seconds\".format(coeff, dur))\n",
    "            \n",
    "            plt.plot(ts, ym, label=\"Real/Loaded\")\n",
    "            yres = res_wrap(coeff)\n",
    "            \n",
    "            global d\n",
    "            d = ts, ym, us, yres, dur, coeff, div\n",
    "            \n",
    "            plt.legend()            \n",
    "            plt.show()\n",
    "            run_state = True            \n",
    "    \n",
    "    display(run_sim)\n",
    "    display(run_est, output)\n",
    "    \n",
    "    run_sim.on_click(run_sim_clicked)\n",
    "    run_est.on_click(run_est_clicked)\n",
    "    \n",
    "    run_save = wid.Button(description=\"Save\", disabled=run_state)\n",
    "    \n",
    "    display(run_save)\n",
    "    display(run_load)\n",
    "    \n",
    "    def run_save_clicked(b):\n",
    "        with output:\n",
    "            save_data(d, Save_Name.value)\n",
    "            \n",
    "    run_save.on_click(run_save_clicked)"
   ]
  },
  {
   "cell_type": "code",
   "execution_count": 137,
   "metadata": {},
   "outputs": [
    {
     "data": {
      "application/vnd.jupyter.widget-view+json": {
       "model_id": "a3c0e6081f0d40aaa60c92c67333e2b1",
       "version_major": 2,
       "version_minor": 0
      },
      "text/plain": [
       "interactive(children=(Dropdown(description='Input', options=('Step', 'Rect', 'Doublet'), value='Step'), Dropdo…"
      ]
     },
     "metadata": {},
     "output_type": "display_data"
    },
    {
     "data": {
      "text/plain": [
       "<function __main__.sim(Input='Step', Noise='None', Technique='Tabu Search')>"
      ]
     },
     "execution_count": 137,
     "metadata": {},
     "output_type": "execute_result"
    }
   ],
   "source": [
    "interact(sim, \n",
    "         Input=[keys for keys, dict in input_dict.items()], \n",
    "         Noise=[keys for keys, dict in noise_dict.items()],\n",
    "         Technique=[keys for keys, dict in tech_dict.items()])"
   ]
  },
  {
   "cell_type": "code",
   "execution_count": 10,
   "metadata": {},
   "outputs": [],
   "source": [
    "class Test:\n",
    "    \n",
    "    def __init__(self):\n",
    "        self.methods = []\n",
    "\n",
    "    def func1(a):\n",
    "        return print(f'is this working? {a}')\n",
    "\n",
    "    def func2():\n",
    "        return \"func2\"\n",
    "\n",
    "    l = locals()\n",
    "    \n",
    "    def method_list(self):\n",
    "        for f in dir(self):\n",
    "            if callable(getattr(self, f)) and not f.startswith(\"_\") and f != \"method_list\":\n",
    "                self.methods.append(f)   \n",
    "        funcs = [self.l[f] for f in self.methods]\n",
    "        \n",
    "        return funcs\n"
   ]
  },
  {
   "cell_type": "code",
   "execution_count": 11,
   "metadata": {},
   "outputs": [
    {
     "name": "stdout",
     "output_type": "stream",
     "text": [
      "is this working? yes\n"
     ]
    }
   ],
   "source": [
    "t = Test()\n",
    "t.method_list()[0]('yes')"
   ]
  },
  {
   "cell_type": "code",
   "execution_count": 34,
   "metadata": {},
   "outputs": [
    {
     "name": "stdout",
     "output_type": "stream",
     "text": [
      "first variable = a, second variable = b\n"
     ]
    }
   ],
   "source": [
    "class Test:\n",
    "    \n",
    "    def __init__(self):\n",
    "        return None\n",
    "\n",
    "    def func1(a):\n",
    "        return print(a)\n",
    "\n",
    "    def func2(a, b):\n",
    "        return print(f'first variable = {a}, second variable = {b}')\n",
    "\n",
    "    l = locals()\n",
    "    \n",
    "def method_list(obj):\n",
    "    methods = []\n",
    "    for f in dir(obj):\n",
    "        if callable(getattr(obj, f)) and not f.startswith(\"_\"):\n",
    "            methods.append(f)   \n",
    "    funcs = [obj.l[f] for f in methods]\n",
    "    vars = [f.__code__.co_varnames for f in funcs]\n",
    "    return list(zip(funcs, vars))\n",
    "\n",
    "t = Test()\n",
    "method_list(t)[1][0](*[a for a in method_list(t)[1][1]])"
   ]
  },
  {
   "cell_type": "code",
   "execution_count": null,
   "metadata": {},
   "outputs": [],
   "source": []
  }
 ],
 "metadata": {
  "kernelspec": {
   "display_name": "Python 3",
   "language": "python",
   "name": "python3"
  },
  "language_info": {
   "codemirror_mode": {
    "name": "ipython",
    "version": 3
   },
   "file_extension": ".py",
   "mimetype": "text/x-python",
   "name": "python",
   "nbconvert_exporter": "python",
   "pygments_lexer": "ipython3",
   "version": "3.7.4"
  }
 },
 "nbformat": 4,
 "nbformat_minor": 4
}
