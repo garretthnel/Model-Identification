{
 "cells": [
  {
   "cell_type": "code",
   "execution_count": 1,
   "metadata": {},
   "outputs": [],
   "source": [
    "# imports\n",
    "from inspect import signature\n",
    "import control\n",
    "import numpy\n",
    "from matplotlib import pyplot as plt\n",
    "import scipy\n",
    "import timeit\n",
    "from ipywidgets import interact, interactive, interact_manual\n",
    "from IPython.display import display\n",
    "import IPython.display as dis\n",
    "import ipywidgets as wid"
   ]
  },
  {
   "cell_type": "code",
   "execution_count": 2,
   "metadata": {},
   "outputs": [],
   "source": [
    "# inputs\n",
    "def step(t, start, stop):\n",
    "    if t<start:\n",
    "        return 0\n",
    "    else:\n",
    "        return 1\n",
    "\n",
    "def rect(t, start, drop, stop):\n",
    "    if t>=start and t<stop:\n",
    "        return 1\n",
    "    else:\n",
    "        return 0\n",
    "\n",
    "def doublet(t, start, drop, rise, stop):\n",
    "    if t>=start and t<drop:\n",
    "        return 1\n",
    "    elif t>=drop and t<rise:\n",
    "        return -1\n",
    "    else:\n",
    "        return 0\n",
    "    \n",
    "input_dict = {'Step': step, \n",
    "              'Rect': rect, \n",
    "              'Doublet': doublet}"
   ]
  },
  {
   "cell_type": "code",
   "execution_count": 3,
   "metadata": {},
   "outputs": [],
   "source": [
    "# read data\n",
    "def read(file):\n",
    "    df = pandas.read_csv(file)\n",
    "    ydata = df.y.values - df.y[0]\n",
    "    udata = df.u.values - df.u[0]\n",
    "    tdata = df.t.values\n",
    "    return [ydata, udata, tdata]\n",
    "\n",
    "# save data\n",
    "def save_data(data, save_name):\n",
    "    df = pandas.DataFrame(data, columns=['y','u','t'])\n",
    "    df.to_csv(save_name)\n",
    "    return None"
   ]
  },
  {
   "cell_type": "code",
   "execution_count": 4,
   "metadata": {},
   "outputs": [],
   "source": [
    "#  noise\n",
    "\n",
    "def uniform_noise(data, m): #currently does not include 1\n",
    "    ydata, udata, t = data\n",
    "    noise = [random.uniform(-1,1)*m for i in range(len(ydata))]\n",
    "    noisy = ydata + noise\n",
    "    return noisy\n",
    "\n",
    "def pseudo_noise(data, m): #currently only returns int values\n",
    "    ydata, udata, t = data\n",
    "    noise = [random.randrange(start=-1,stop=1)*m for i in range(len(ydata))]\n",
    "    noisy = ydata + noise\n",
    "    return noisy\n"
   ]
  },
  {
   "cell_type": "code",
   "execution_count": 5,
   "metadata": {},
   "outputs": [],
   "source": [
    "# system\n",
    "\n",
    "def FO(K, τ):\n",
    "    return control.tf(K, [τ, 1])\n",
    "\n",
    "def create_system(Numerator, Denominator):\n",
    "    return control.tf(Numerator, Denominator)\n",
    "\n",
    "system_dict = {'First Order': FO,\n",
    "              'Create System': create_system}"
   ]
  },
  {
   "cell_type": "code",
   "execution_count": 119,
   "metadata": {},
   "outputs": [],
   "source": [
    "# Techniques\n",
    "\n",
    "# def ARMAX(data):\n",
    "#     ydata, udata, t = data\n",
    "#     start = timeit.default_timer()\n",
    "#     ARMA_results = sm.tsa.ARMA(ydata, order=(2,1), exog = udata).fit()\n",
    "#     y_armax = ARMA_results.predict(0, len(t)-1, udata) + ydata[0]\n",
    "#     end = timeit.default_timer()\n",
    "#     runtime = end - start\n",
    "#     return y_armax, runtime\n",
    "\n",
    "# def ARX(data):\n",
    "#     ydata, udata, t = data\n",
    "#     start = timeit.default_timer()\n",
    "#     ARX_results = sm.tsa.AR(ydata).fit()\n",
    "#     y_arx = ARX_results.predict()\n",
    "#     end = timeit.default_timer()\n",
    "#     runtime = end - start\n",
    "#     t_arx = time[:len(y_arx)]\n",
    "#     return y_arx, runtime\n",
    "\n",
    "def DE(function, Bounds):\n",
    "    return scipy.optimize.differential_evolution(function, Bounds)\n",
    "\n",
    "def LSTSQ(func, Initial_Guess): #ig = initial guess \n",
    "    return scipy.optimize.least_squares(func, Initial_Guess).x\n",
    "    \n",
    "tech_dict = {'Differential Evolution': DE,\n",
    "            'LSTSQ': LSTSQ}"
   ]
  },
  {
   "cell_type": "code",
   "execution_count": 120,
   "metadata": {},
   "outputs": [],
   "source": [
    "# Misc\n",
    "\n",
    "def err(params, ts, ym, us):\n",
    "    num = [params[0]]\n",
    "    den = params[1:]\n",
    "    est_sys = control.tf(num, den)\n",
    "    tsim, ysim, xsim = control.forced_response(est_sys, T=ts, U=us)\n",
    "    return sum((ym - ysim)**2)\n",
    "\n",
    "def res(params, ts, ym, us):\n",
    "    num = [params[0]]\n",
    "    den = params[1:]\n",
    "    est_sys = control.tf(num, den)\n",
    "    tsim, ysim, xsim = control.forced_response(est_sys, T=ts, U=us)\n",
    "    plt.plot(tsim, ysim, label=\"Estimation\")\n",
    "    return None"
   ]
  },
  {
   "cell_type": "code",
   "execution_count": 121,
   "metadata": {},
   "outputs": [],
   "source": [
    "def sim(input='step', system='Create System', technique='Differential Evolution'):\n",
    "\n",
    "    u = input_dict[input]\n",
    "    u_sig = u.__code__.co_varnames[1:]\n",
    "    c_input_params = {}\n",
    "    c_input_wid = {}\n",
    "    for var in u_sig:\n",
    "        c_input_wid[var] = wid.IntSlider(value=1, min=0, max=600, description=var, disabled=False)\n",
    "        display(c_input_wid[var])\n",
    "    \n",
    "    sys = system_dict[system]\n",
    "    sys_sig = sys.__code__.co_varnames\n",
    "    c_sys_params = {}\n",
    "    c_sys_wid = {}\n",
    "    for var in sys_sig:\n",
    "        c_sys_wid[var] = wid.Text(value='1;1', description=var, disabled=False)\n",
    "        display(c_sys_wid[var])\n",
    "        \n",
    "    tech = tech_dict[technique]\n",
    "    tech_sig = tech.__code__.co_varnames[1:]\n",
    "    for names in tech_sig:\n",
    "        display(names+\":\")\n",
    "    c_tech_params = {}\n",
    "    c_tech_wid = {}\n",
    "    for var1 in tech_sig:\n",
    "        for var2 in sys_sig:\n",
    "            var = str(var1) + str(var2)\n",
    "            c_tech_wid[var] = wid.Text(value='0.1,10;0.1,10', description=var2, disabled=False)\n",
    "            display(c_tech_wid[var])\n",
    "    \n",
    "    run_sim = wid.Button(description=\"Run\")\n",
    "    output = wid.Output()\n",
    "    \n",
    "    display(run_sim, output)\n",
    "\n",
    "    def run_sim_clicked(b):\n",
    "        \n",
    "        with output:\n",
    "            dis.clear_output(True)\n",
    "            \n",
    "            for var in u_sig:\n",
    "                c_input_params[var] = c_input_wid[var].value\n",
    "            \n",
    "            for var in sys_sig:\n",
    "                c_sys_params[var] = [float(i) for i in c_sys_wid[var].value.split(';')]\n",
    "            \n",
    "            ts = numpy.linspace(0, c_input_params['stop'])\n",
    "            us = [u(t, *c_input_params.values()) for t in ts]\n",
    "            system = create_system(*c_sys_params.values()) \n",
    "            tm, ym, xm = control.forced_response(system, T=ts, U=us)\n",
    "            plt.plot(tm, ym, '--', label=\"Real\")\n",
    "            \n",
    "            bounds = []\n",
    "            \n",
    "            for var in c_tech_wid.keys():\n",
    "                c_tech_params[var] = [[float(j) for j in [i.split(',') for i in c_tech_wid[var].value.split(';')][k]] for k in range(len(c_tech_wid[var].value.split(';')))]\n",
    "                for vals in c_tech_params[var]:\n",
    "                    bounds.append(vals)\n",
    "\n",
    "            def err_wrap(params):\n",
    "                return err(params, ts, ym, us)\n",
    "        \n",
    "            def res_wrap(params):\n",
    "                return res(params, ts, ym, us)\n",
    "        \n",
    "            st = timeit.default_timer()\n",
    "            coeff = tech(err_wrap, bounds).x\n",
    "\n",
    "            et = timeit.default_timer()\n",
    "            print(\"Parameters estimated as {} in {} seconds\".format(coeff/coeff[-1], et-st))\n",
    "            print(\"Time taken: {}\".format(et-st))\n",
    "            res_wrap(coeff)\n",
    "            plt.legend()            \n",
    "            plt.show()\n",
    "    \n",
    "    run_sim.on_click(run_sim_clicked)"
   ]
  },
  {
   "cell_type": "code",
   "execution_count": 122,
   "metadata": {},
   "outputs": [
    {
     "data": {
      "application/vnd.jupyter.widget-view+json": {
       "model_id": "e223f82301294298ab5da54cddc6a2ec",
       "version_major": 2,
       "version_minor": 0
      },
      "text/plain": [
       "interactive(children=(Dropdown(description='input', options=('Step', 'Rect', 'Doublet'), value='Step'), Dropdo…"
      ]
     },
     "metadata": {},
     "output_type": "display_data"
    },
    {
     "data": {
      "text/plain": [
       "<function __main__.sim(input='step', system='Create System', technique='Differential Evolution')>"
      ]
     },
     "execution_count": 122,
     "metadata": {},
     "output_type": "execute_result"
    }
   ],
   "source": [
    "interact(sim, \n",
    "         input=[keys for keys,dict in input_dict.items()], \n",
    "         system=[keys for keys,dict in system_dict.items()], \n",
    "         technique=[keys for keys,dict in tech_dict.items()])\n",
    "# First Order system option is redundant - might remove the choice as it can easily be typed in"
   ]
  },
  {
   "cell_type": "code",
   "execution_count": null,
   "metadata": {},
   "outputs": [],
   "source": []
  }
 ],
 "metadata": {
  "kernelspec": {
   "display_name": "Python 3",
   "language": "python",
   "name": "python3"
  },
  "language_info": {
   "codemirror_mode": {
    "name": "ipython",
    "version": 3
   },
   "file_extension": ".py",
   "mimetype": "text/x-python",
   "name": "python",
   "nbconvert_exporter": "python",
   "pygments_lexer": "ipython3",
   "version": "3.7.4"
  }
 },
 "nbformat": 4,
 "nbformat_minor": 4
}
