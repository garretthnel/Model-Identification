{
 "cells": [
  {
   "cell_type": "code",
   "execution_count": 6,
   "metadata": {},
   "outputs": [],
   "source": [
    "# imports\n",
    "from inspect import signature\n",
    "\n",
    "import scipy\n",
    "import psopy\n",
    "import gamod\n",
    "import tsmod\n",
    "import sysid\n",
    "import ssid\n",
    "\n",
    "import parid\n",
    "\n",
    "from ipywidgets import interact, interactive, interact_manual\n",
    "from IPython.display import display\n",
    "import IPython.display as dis\n",
    "import ipywidgets as wid\n",
    "\n",
    "import time\n",
    "import os.path\n",
    "\n",
    "import random\n",
    "import pandas\n",
    "import numpy\n",
    "import control\n",
    "from matplotlib import pyplot as plt\n",
    "import importlib"
   ]
  },
  {
   "cell_type": "code",
   "execution_count": 110,
   "metadata": {},
   "outputs": [
    {
     "name": "stdout",
     "output_type": "stream",
     "text": [
      "A = [[0.90483742]]\n",
      "\n",
      "B = [[0.09055917]]\n",
      "\n",
      "C = [[1.]]\n",
      "\n",
      "D = [[0.04837418]]\n",
      "\n"
     ]
    },
    {
     "data": {
      "text/plain": [
       "[<matplotlib.lines.Line2D at 0x2c986d757c8>]"
      ]
     },
     "execution_count": 110,
     "metadata": {},
     "output_type": "execute_result"
    },
    {
     "data": {
      "image/png": "[encoded data removed]",
      "text/plain": [
       "<Figure size 432x288 with 1 Axes>"
      ]
     },
     "metadata": {
      "needs_background": "light"
     },
     "output_type": "display_data"
    }
   ],
   "source": [
    "# test sysid\n",
    "\n",
    "ts = range(100)\n",
    "us = [rect(t, 10, 50, 100) for t in ts]\n",
    "_, ys, _ = control.forced_response(control.tf([1], [10,1]), T=ts, U=us)\n",
    "plt.plot(ts, ys)\n",
    "\n",
    "def sysid_id(y, u):\n",
    "    ss1_id = sysid.subspace_det_algo1(y, u, f=2, p=2, s_tol=1e-2, dt=1)\n",
    "    tf = control.ss(ss1_id.A, ss1_id.B, ss1_id.C, ss1_id.D)\n",
    "    _, ys, _ = control.forced_response(tf, T=ts, U=us)\n",
    "    print(tf)\n",
    "    return ts, ys\n",
    "\n",
    "id = sysid_id(ys, us)\n",
    "plt.plot(id[0], id[1])\n",
    "\n",
    "# this module gives questionable results"
   ]
  },
  {
   "cell_type": "code",
   "execution_count": 95,
   "metadata": {},
   "outputs": [
    {
     "ename": "ValueError",
     "evalue": "all the input array dimensions except for the concatenation axis must match exactly",
     "output_type": "error",
     "traceback": [
      "\u001b[1;31m---------------------------------------------------------------------------\u001b[0m",
      "\u001b[1;31mValueError\u001b[0m                                Traceback (most recent call last)",
      "\u001b[1;32m<ipython-input-95-0f9ca1f5da87>\u001b[0m in \u001b[0;36m<module>\u001b[1;34m\u001b[0m\n\u001b[0;32m     16\u001b[0m     \u001b[1;32mreturn\u001b[0m \u001b[0mtf\u001b[0m\u001b[1;33m.\u001b[0m\u001b[0mnum\u001b[0m\u001b[1;33m,\u001b[0m \u001b[0mtf\u001b[0m\u001b[1;33m.\u001b[0m\u001b[0mden\u001b[0m\u001b[1;33m\u001b[0m\u001b[1;33m\u001b[0m\u001b[0m\n\u001b[0;32m     17\u001b[0m \u001b[1;33m\u001b[0m\u001b[0m\n\u001b[1;32m---> 18\u001b[1;33m \u001b[0msubspace_id\u001b[0m\u001b[1;33m(\u001b[0m\u001b[0mys\u001b[0m\u001b[1;33m,\u001b[0m \u001b[0mus\u001b[0m\u001b[1;33m)\u001b[0m\u001b[1;33m\u001b[0m\u001b[1;33m\u001b[0m\u001b[0m\n\u001b[0m\u001b[0;32m     19\u001b[0m \u001b[1;33m\u001b[0m\u001b[0m\n\u001b[0;32m     20\u001b[0m \u001b[1;31m# \"TypeError: 'float' object cannot be interpreted as an integer\" but I cannot see where to correct it\u001b[0m\u001b[1;33m\u001b[0m\u001b[1;33m\u001b[0m\u001b[1;33m\u001b[0m\u001b[0m\n",
      "\u001b[1;32m<ipython-input-95-0f9ca1f5da87>\u001b[0m in \u001b[0;36msubspace_id\u001b[1;34m(y, u)\u001b[0m\n\u001b[0;32m     10\u001b[0m     \u001b[0mts\u001b[0m \u001b[1;33m=\u001b[0m \u001b[0mrange\u001b[0m\u001b[1;33m(\u001b[0m\u001b[1;36m100\u001b[0m\u001b[1;33m)\u001b[0m\u001b[1;33m\u001b[0m\u001b[1;33m\u001b[0m\u001b[0m\n\u001b[0;32m     11\u001b[0m     \u001b[0mu\u001b[0m\u001b[1;33m,\u001b[0m \u001b[0my\u001b[0m \u001b[1;33m=\u001b[0m \u001b[0mnumpy\u001b[0m\u001b[1;33m.\u001b[0m\u001b[0marray\u001b[0m\u001b[1;33m(\u001b[0m\u001b[1;33m[\u001b[0m\u001b[0mu\u001b[0m\u001b[1;33m]\u001b[0m\u001b[1;33m)\u001b[0m\u001b[1;33m,\u001b[0m \u001b[0mnumpy\u001b[0m\u001b[1;33m.\u001b[0m\u001b[0marray\u001b[0m\u001b[1;33m(\u001b[0m\u001b[1;33m[\u001b[0m\u001b[0my\u001b[0m\u001b[1;33m]\u001b[0m\u001b[1;33m)\u001b[0m\u001b[1;33m\u001b[0m\u001b[1;33m\u001b[0m\u001b[0m\n\u001b[1;32m---> 12\u001b[1;33m     \u001b[0mA\u001b[0m\u001b[1;33m,\u001b[0m \u001b[0mB\u001b[0m\u001b[1;33m,\u001b[0m \u001b[0mC\u001b[0m\u001b[1;33m,\u001b[0m \u001b[0mD\u001b[0m\u001b[1;33m,\u001b[0m \u001b[0mCov\u001b[0m\u001b[1;33m,\u001b[0m \u001b[0mS\u001b[0m \u001b[1;33m=\u001b[0m \u001b[0mssid\u001b[0m\u001b[1;33m.\u001b[0m\u001b[0mN4SID\u001b[0m\u001b[1;33m(\u001b[0m\u001b[0mu\u001b[0m\u001b[1;33m,\u001b[0m \u001b[0my\u001b[0m\u001b[1;33m,\u001b[0m \u001b[1;36m100\u001b[0m\u001b[1;33m,\u001b[0m \u001b[1;36m100\u001b[0m\u001b[1;33m,\u001b[0m \u001b[1;36m4\u001b[0m\u001b[1;33m)\u001b[0m\u001b[1;33m\u001b[0m\u001b[1;33m\u001b[0m\u001b[0m\n\u001b[0m\u001b[0;32m     13\u001b[0m     \u001b[0mtf\u001b[0m \u001b[1;33m=\u001b[0m \u001b[0mcontrol\u001b[0m\u001b[1;33m.\u001b[0m\u001b[0mss\u001b[0m\u001b[1;33m(\u001b[0m\u001b[0mA\u001b[0m\u001b[1;33m,\u001b[0m \u001b[0mB\u001b[0m\u001b[1;33m,\u001b[0m \u001b[0mC\u001b[0m\u001b[1;33m,\u001b[0m \u001b[0mD\u001b[0m\u001b[1;33m)\u001b[0m\u001b[1;33m\u001b[0m\u001b[1;33m\u001b[0m\u001b[0m\n\u001b[0;32m     14\u001b[0m     \u001b[0m_\u001b[0m\u001b[1;33m,\u001b[0m \u001b[0mys\u001b[0m\u001b[1;33m,\u001b[0m \u001b[0m_\u001b[0m \u001b[1;33m=\u001b[0m \u001b[0mcontrol\u001b[0m\u001b[1;33m.\u001b[0m\u001b[0mforced_response\u001b[0m\u001b[1;33m(\u001b[0m\u001b[0mtf\u001b[0m\u001b[1;33m,\u001b[0m \u001b[0mT\u001b[0m\u001b[1;33m=\u001b[0m\u001b[0mts\u001b[0m\u001b[1;33m,\u001b[0m \u001b[0mU\u001b[0m\u001b[1;33m=\u001b[0m\u001b[0mus\u001b[0m\u001b[1;33m)\u001b[0m\u001b[1;33m\u001b[0m\u001b[1;33m\u001b[0m\u001b[0m\n",
      "\u001b[1;32m~\\Documents\\Model-Identification\\ssid.py\u001b[0m in \u001b[0;36mN4SID\u001b[1;34m(u, y, NumRows, NumCols, NSig, require_stable)\u001b[0m\n\u001b[0;32m    273\u001b[0m                'Columns':NumCols}\n\u001b[0;32m    274\u001b[0m \u001b[1;33m\u001b[0m\u001b[0m\n\u001b[1;32m--> 275\u001b[1;33m     \u001b[0mGammaDict\u001b[0m\u001b[1;33m,\u001b[0m\u001b[0mS\u001b[0m \u001b[1;33m=\u001b[0m \u001b[0mpreProcess\u001b[0m\u001b[1;33m(\u001b[0m\u001b[0mu\u001b[0m\u001b[1;33m,\u001b[0m\u001b[0my\u001b[0m\u001b[1;33m,\u001b[0m\u001b[0mNumDict\u001b[0m\u001b[1;33m)\u001b[0m\u001b[1;33m\u001b[0m\u001b[1;33m\u001b[0m\u001b[0m\n\u001b[0m\u001b[0;32m    276\u001b[0m \u001b[1;33m\u001b[0m\u001b[0m\n\u001b[0;32m    277\u001b[0m \u001b[1;33m\u001b[0m\u001b[0m\n",
      "\u001b[1;32m~\\Documents\\Model-Identification\\ssid.py\u001b[0m in \u001b[0;36mpreProcess\u001b[1;34m(u, y, NumDict)\u001b[0m\n\u001b[0;32m    127\u001b[0m     \u001b[0mUPast\u001b[0m\u001b[1;33m,\u001b[0m\u001b[0mUFuture\u001b[0m \u001b[1;33m=\u001b[0m \u001b[0mgetHankelMatrices\u001b[0m\u001b[1;33m(\u001b[0m\u001b[0mu\u001b[0m\u001b[1;33m,\u001b[0m\u001b[0mNumRows\u001b[0m\u001b[1;33m,\u001b[0m\u001b[0mNumCols\u001b[0m\u001b[1;33m)\u001b[0m\u001b[1;33m\u001b[0m\u001b[1;33m\u001b[0m\u001b[0m\n\u001b[0;32m    128\u001b[0m     \u001b[0mYPast\u001b[0m\u001b[1;33m,\u001b[0m\u001b[0mYFuture\u001b[0m \u001b[1;33m=\u001b[0m \u001b[0mgetHankelMatrices\u001b[0m\u001b[1;33m(\u001b[0m\u001b[0my\u001b[0m\u001b[1;33m,\u001b[0m\u001b[0mNumRows\u001b[0m\u001b[1;33m,\u001b[0m\u001b[0mNumCols\u001b[0m\u001b[1;33m)\u001b[0m\u001b[1;33m\u001b[0m\u001b[1;33m\u001b[0m\u001b[0m\n\u001b[1;32m--> 129\u001b[1;33m     \u001b[0mData\u001b[0m \u001b[1;33m=\u001b[0m \u001b[0mnp\u001b[0m\u001b[1;33m.\u001b[0m\u001b[0mvstack\u001b[0m\u001b[1;33m(\u001b[0m\u001b[1;33m(\u001b[0m\u001b[0mUPast\u001b[0m\u001b[1;33m,\u001b[0m\u001b[0mUFuture\u001b[0m\u001b[1;33m,\u001b[0m\u001b[0mYPast\u001b[0m\u001b[1;33m)\u001b[0m\u001b[1;33m)\u001b[0m\u001b[1;33m\u001b[0m\u001b[1;33m\u001b[0m\u001b[0m\n\u001b[0m\u001b[0;32m    130\u001b[0m     \u001b[0mL\u001b[0m \u001b[1;33m=\u001b[0m \u001b[0mla\u001b[0m\u001b[1;33m.\u001b[0m\u001b[0mlstsq\u001b[0m\u001b[1;33m(\u001b[0m\u001b[0mData\u001b[0m\u001b[1;33m.\u001b[0m\u001b[0mT\u001b[0m\u001b[1;33m,\u001b[0m\u001b[0mYFuture\u001b[0m\u001b[1;33m.\u001b[0m\u001b[0mT\u001b[0m\u001b[1;33m)\u001b[0m\u001b[1;33m[\u001b[0m\u001b[1;36m0\u001b[0m\u001b[1;33m]\u001b[0m\u001b[1;33m.\u001b[0m\u001b[0mT\u001b[0m\u001b[1;33m\u001b[0m\u001b[1;33m\u001b[0m\u001b[0m\n\u001b[0;32m    131\u001b[0m     \u001b[0mZ\u001b[0m \u001b[1;33m=\u001b[0m \u001b[0mnp\u001b[0m\u001b[1;33m.\u001b[0m\u001b[0mdot\u001b[0m\u001b[1;33m(\u001b[0m\u001b[0mL\u001b[0m\u001b[1;33m,\u001b[0m\u001b[0mData\u001b[0m\u001b[1;33m)\u001b[0m\u001b[1;33m\u001b[0m\u001b[1;33m\u001b[0m\u001b[0m\n",
      "\u001b[1;32mC:\\ProgramData\\Anaconda3\\lib\\site-packages\\numpy\\core\\shape_base.py\u001b[0m in \u001b[0;36mvstack\u001b[1;34m(tup)\u001b[0m\n\u001b[0;32m    281\u001b[0m     \"\"\"\n\u001b[0;32m    282\u001b[0m     \u001b[0m_warn_for_nonsequence\u001b[0m\u001b[1;33m(\u001b[0m\u001b[0mtup\u001b[0m\u001b[1;33m)\u001b[0m\u001b[1;33m\u001b[0m\u001b[1;33m\u001b[0m\u001b[0m\n\u001b[1;32m--> 283\u001b[1;33m     \u001b[1;32mreturn\u001b[0m \u001b[0m_nx\u001b[0m\u001b[1;33m.\u001b[0m\u001b[0mconcatenate\u001b[0m\u001b[1;33m(\u001b[0m\u001b[1;33m[\u001b[0m\u001b[0matleast_2d\u001b[0m\u001b[1;33m(\u001b[0m\u001b[0m_m\u001b[0m\u001b[1;33m)\u001b[0m \u001b[1;32mfor\u001b[0m \u001b[0m_m\u001b[0m \u001b[1;32min\u001b[0m \u001b[0mtup\u001b[0m\u001b[1;33m]\u001b[0m\u001b[1;33m,\u001b[0m \u001b[1;36m0\u001b[0m\u001b[1;33m)\u001b[0m\u001b[1;33m\u001b[0m\u001b[1;33m\u001b[0m\u001b[0m\n\u001b[0m\u001b[0;32m    284\u001b[0m \u001b[1;33m\u001b[0m\u001b[0m\n\u001b[0;32m    285\u001b[0m \u001b[1;33m\u001b[0m\u001b[0m\n",
      "\u001b[1;31mValueError\u001b[0m: all the input array dimensions except for the concatenation axis must match exactly"
     ]
    },
    {
     "data": {
      "image/png": "[encoded data removed]",
      "text/plain": [
       "<Figure size 432x288 with 1 Axes>"
      ]
     },
     "metadata": {
      "needs_background": "light"
     },
     "output_type": "display_data"
    }
   ],
   "source": [
    "# try a different module\n",
    "importlib.reload(ssid)\n",
    "\n",
    "ts = range(100)\n",
    "us = [rect(t, 10, 50, 100) for t in ts]\n",
    "_, ys, _ = control.forced_response(control.tf([1], [10,1]), T=ts, U=us)\n",
    "plt.plot(ts, ys)\n",
    "\n",
    "def subspace_id(y, u):\n",
    "    u, y = numpy.array([u]), numpy.array([y])\n",
    "    A, B, C, D, Cov, S = ssid.N4SID(u, y, 100, 100, 4)\n",
    "    tf = control.ss(A, B, C, D)\n",
    "    _, ys, _ = control.forced_response(tf, T=ts, U=us)\n",
    "    plt.plot(ts, ys) \n",
    "    return tf.num, tf.den\n",
    "\n",
    "subspace_id(ys, us)\n",
    "\n",
    "# \"TypeError: 'float' object cannot be interpreted as an integer\" but I cannot see where to correct it\n",
    "# the above error exists even in the example code from the N4SID github when run https://github.com/AndyLamperski/pyN4SID/blob/master/N4SIDtest.ipynb"
   ]
  },
  {
   "cell_type": "code",
   "execution_count": 116,
   "metadata": {},
   "outputs": [
    {
     "name": "stdout",
     "output_type": "stream",
     "text": [
      "A = [[0.90483742]]\n",
      "\n",
      "B = [[-0.09961931]]\n",
      "\n",
      "C = [[-0.95143914]]\n",
      "\n",
      "D = [[0.]]\n",
      "\n"
     ]
    },
    {
     "data": {
      "text/plain": [
       "[<matplotlib.lines.Line2D at 0x2c986e32788>]"
      ]
     },
     "execution_count": 116,
     "metadata": {},
     "output_type": "execute_result"
    },
    {
     "data": {
      "image/png": "[encoded data removed]",
      "text/plain": [
       "<Figure size 432x288 with 1 Axes>"
      ]
     },
     "metadata": {
      "needs_background": "light"
     },
     "output_type": "display_data"
    }
   ],
   "source": [
    "# try SIPPY https://github.com/CPCLAB-UNIPI/SIPPY.git (requires slycot)\n",
    "import sippy\n",
    "\n",
    "ts = range(100)\n",
    "us = [rect(t, 10, 50, 100) for t in ts]\n",
    "_, ys, _ = control.forced_response(control.tf([1], [10,1]), T=ts, U=us)\n",
    "plt.plot(ts, ys)\n",
    "\n",
    "def sippy_id(y, u):\n",
    "    u, y = numpy.array(u), numpy.array(y)\n",
    "    sys_id = sippy.system_identification(y, u, 'N4SID', SS_fixed_order=1)\n",
    "    tf = control.ss(sys_id.A, sys_id.B, sys_id.C, sys_id.D)\n",
    "    _, ys, _ = control.forced_response(tf, T=ts, U=us)\n",
    "    print(tf)\n",
    "    return ts, ys\n",
    "\n",
    "id = sippy_id(ys, us)\n",
    "plt.plot(id[0], id[1])\n",
    "\n",
    "# similar problem as sysid?"
   ]
  },
  {
   "cell_type": "code",
   "execution_count": 113,
   "metadata": {},
   "outputs": [
    {
     "name": "stdout",
     "output_type": "stream",
     "text": [
      "A = [[0.90483742]]\n",
      "\n",
      "B = [[-0.09961931]]\n",
      "\n",
      "C = [[-0.95143914]]\n",
      "\n",
      "D = [[0.]]\n",
      "\n",
      "A = [[0.90483742]]\n",
      "\n",
      "B = [[0.09055917]]\n",
      "\n",
      "C = [[1.]]\n",
      "\n",
      "D = [[0.04837418]]\n",
      "\n"
     ]
    },
    {
     "data": {
      "text/plain": [
       "[<matplotlib.lines.Line2D at 0x2c986d75f08>]"
      ]
     },
     "execution_count": 113,
     "metadata": {},
     "output_type": "execute_result"
    },
    {
     "data": {
      "image/png": "[encoded data removed]",
      "text/plain": [
       "<Figure size 432x288 with 1 Axes>"
      ]
     },
     "metadata": {
      "needs_background": "light"
     },
     "output_type": "display_data"
    }
   ],
   "source": [
    "sipid = sippy_id(ys, us)\n",
    "syid = sysid_id(ys, us)\n",
    "t = sipid[0]\n",
    "\n",
    "plt.plot(t, sipid[1])\n",
    "plt.plot(t, syid[1])"
   ]
  },
  {
   "cell_type": "code",
   "execution_count": 3,
   "metadata": {},
   "outputs": [],
   "source": [
    "import parid\n",
    "importlib.reload(parid)\n",
    "est = parid.Estimate()"
   ]
  },
  {
   "cell_type": "code",
   "execution_count": 4,
   "metadata": {},
   "outputs": [],
   "source": [
    "def sim(Input='Step', Noise=\"None\", Technique='Tabu Search'):\n",
    "\n",
    "    Load_Name = wid.Text(value='', description='Load Name', disabled=False)\n",
    "    run_load = wid.Button(description=\"Load\", disabled=False)\n",
    "    load_state = False\n",
    "    \n",
    "    def run_load_clicked(b):\n",
    "        with output:\n",
    "            dis.clear_output(True)\n",
    "            global ts, ym, us\n",
    "            ydata, udata, tdata = est.load_data(Load_Name.value)\n",
    "            ts, ym, us = tdata, ydata, udata\n",
    "            global load_state\n",
    "            load_state = True\n",
    "            \n",
    "            plt.plot(ts, ym, label=\"Loaded\")\n",
    "            plt.legend()\n",
    "            plt.show()\n",
    "            \n",
    "    run_load.on_click(run_load_clicked)\n",
    "    \n",
    "    u = est.input_dict[Input]\n",
    "    u_sig = u.__code__.co_varnames[1:]\n",
    "    c_input_params = {}\n",
    "    c_input_wid = {}\n",
    "    for var in u_sig:\n",
    "        \n",
    "        c_input_wid[var] = wid.IntSlider(value=1, min=0, max=600, description=var, disabled=False)\n",
    "        display(c_input_wid[var])\n",
    "        \n",
    "    n = est.noise_dict[Noise]\n",
    "    n_sig = n.__code__.co_varnames[1:]\n",
    "    c_noise_params = {}\n",
    "    c_noise_wid = {}\n",
    "    for var in n_sig:\n",
    "        c_noise_wid[var] = wid.FloatSlider(value=0, min=0, max=0.5, step=0.01, description=var, disabled=False)\n",
    "        display(c_noise_wid[var])\n",
    "    \n",
    "    sys = est.create_system\n",
    "    sys_sig = sys.__code__.co_varnames\n",
    "    c_sys_params = {}\n",
    "    c_sys_wid = {}\n",
    "    for var in sys_sig:\n",
    "        c_sys_wid[var] = wid.Text(value='1', description=var, disabled=False)\n",
    "        display(c_sys_wid[var])\n",
    "        \n",
    "    tech = est.tech_dict[Technique]\n",
    "    tech_sig = tech.__code__.co_varnames[1:]\n",
    "    for names in tech_sig:\n",
    "        display(names+\"(inputs separated by a semicolon):\")\n",
    "    \n",
    "    c_tech_wid = {}\n",
    "    for var1 in tech_sig:\n",
    "        for var2 in sys_sig:\n",
    "            var = str(var1) + str(var2)\n",
    "            c_tech_wid[var] = wid.Text(value='1', description=var2, disabled=False)\n",
    "            display(c_tech_wid[var])\n",
    "    \n",
    "    Save_Name = wid.Text(value='', description='Save Name', disabled=False)\n",
    "    display(Save_Name)\n",
    "    display(Load_Name)\n",
    "    \n",
    "    run_sim = wid.Button(description='Simulate')\n",
    "    run_est = wid.Button(description='Estimate')\n",
    "    \n",
    "    run_state = False\n",
    "    \n",
    "    output = wid.Output()\n",
    "\n",
    "    def run_sim_clicked(b):\n",
    "        with output:\n",
    "            dis.clear_output(True)\n",
    "            global ts, ym, us\n",
    "            \n",
    "            for var in u_sig:\n",
    "                c_input_params[var] = c_input_wid[var].value\n",
    "                \n",
    "            for var in n_sig:\n",
    "                c_noise_params[var] = c_noise_wid[var].value\n",
    "            \n",
    "            for var in sys_sig:\n",
    "                c_sys_params[var] = [float(i) for i in c_sys_wid[var].value.split(';')]\n",
    "            \n",
    "            ts = numpy.linspace(0, c_input_params['stop'], c_input_params['stop']*1)\n",
    "            us = [u(t, *c_input_params.values()) for t in ts]\n",
    "            \n",
    "            system = est.create_system(*c_sys_params.values()) \n",
    "            print(system)\n",
    "            tm, y1, xm = control.forced_response(system, T=ts, U=us)\n",
    "            \n",
    "            ym = n(y1, *c_noise_params.values())\n",
    "            \n",
    "            plt.plot(tm, ym, label=\"Real\")\n",
    "            plt.legend()            \n",
    "            plt.show()\n",
    "        \n",
    "    def run_est_clicked(b):\n",
    "        with output:\n",
    "            dis.clear_output(True)\n",
    "            arr_tech_params = []\n",
    "            orders = []\n",
    "            \n",
    "            for o, var in enumerate(c_tech_wid):\n",
    "                orders.append(len(c_tech_wid[var].value.split(';')))\n",
    "                for k in range(orders[o]):\n",
    "                    arr_tech_params.append([float(j) for j in [i.split(',') for i in c_tech_wid[var].value.split(';')][k]]) \n",
    "            \n",
    "            div = orders[0]\n",
    "            \n",
    "            def err_wrap(params):\n",
    "                return est.err(params, ts, ym, us, div)\n",
    "        \n",
    "            def res_wrap(params):\n",
    "                return est.res(params, ts, ym, us, div)\n",
    "            \n",
    "            print('Running...')\n",
    "            st = time.time()\n",
    "            coeff = tech(err_wrap, arr_tech_params)\n",
    "            et = time.time()\n",
    "            print('Done.')\n",
    "            \n",
    "            dur = et-st\n",
    "            print(\"Parameters estimated as {} in {} seconds\".format(coeff, dur))\n",
    "            \n",
    "            plt.plot(ts, ym, label=\"Real/Loaded\")\n",
    "            yres = res_wrap(coeff)\n",
    "            \n",
    "            global d\n",
    "            d = ts, ym, us, yres, dur, coeff, div\n",
    "            \n",
    "            plt.legend()            \n",
    "            plt.show()\n",
    "            run_state = True            \n",
    "    \n",
    "    display(run_sim)\n",
    "    display(run_est, output)\n",
    "    \n",
    "    run_sim.on_click(run_sim_clicked)\n",
    "    run_est.on_click(run_est_clicked)\n",
    "    \n",
    "    run_save = wid.Button(description=\"Save\", disabled=run_state)\n",
    "    \n",
    "    display(run_save)\n",
    "    display(run_load)\n",
    "    \n",
    "    def run_save_clicked(b):\n",
    "        with output:\n",
    "            est.save_data(d, Save_Name.value)\n",
    "            \n",
    "    run_save.on_click(run_save_clicked)"
   ]
  },
  {
   "cell_type": "code",
   "execution_count": 5,
   "metadata": {},
   "outputs": [
    {
     "data": {
      "application/vnd.jupyter.widget-view+json": {
       "model_id": "add02b2db42743cf96f97b2f18bdb003",
       "version_major": 2,
       "version_minor": 0
      },
      "text/plain": [
       "interactive(children=(Dropdown(description='Input', options=('Step', 'Rect', 'Doublet'), value='Step'), Dropdo…"
      ]
     },
     "metadata": {},
     "output_type": "display_data"
    },
    {
     "data": {
      "text/plain": [
       "<function __main__.sim(Input='Step', Noise='None', Technique='Tabu Search')>"
      ]
     },
     "execution_count": 5,
     "metadata": {},
     "output_type": "execute_result"
    }
   ],
   "source": [
    "interact(sim, \n",
    "         Input=[keys for keys, dict in est.input_dict.items()], \n",
    "         Noise=[keys for keys, dict in est.noise_dict.items()],\n",
    "         Technique=[keys for keys, dict in est.tech_dict.items()])"
   ]
  },
  {
   "cell_type": "code",
   "execution_count": 10,
   "metadata": {},
   "outputs": [],
   "source": [
    "class Test:\n",
    "    \n",
    "    def __init__(self):\n",
    "        self.methods = []\n",
    "\n",
    "    def func1(a):\n",
    "        return print(f'is this working? {a}')\n",
    "\n",
    "    def func2():\n",
    "        return \"func2\"\n",
    "\n",
    "    l = locals()\n",
    "    \n",
    "    def method_list(self):\n",
    "        for f in dir(self):\n",
    "            if callable(getattr(self, f)) and not f.startswith(\"_\") and f != \"method_list\":\n",
    "                self.methods.append(f)   \n",
    "        funcs = [self.l[f] for f in self.methods]\n",
    "        \n",
    "        return funcs\n"
   ]
  },
  {
   "cell_type": "code",
   "execution_count": 11,
   "metadata": {},
   "outputs": [
    {
     "name": "stdout",
     "output_type": "stream",
     "text": [
      "is this working? yes\n"
     ]
    }
   ],
   "source": [
    "t = Test()\n",
    "t.method_list()[0]('yes')"
   ]
  },
  {
   "cell_type": "code",
   "execution_count": 34,
   "metadata": {},
   "outputs": [
    {
     "name": "stdout",
     "output_type": "stream",
     "text": [
      "first variable = a, second variable = b\n"
     ]
    }
   ],
   "source": [
    "class Test:\n",
    "    \n",
    "    def __init__(self):\n",
    "        return None\n",
    "\n",
    "    def func1(a):\n",
    "        return print(a)\n",
    "\n",
    "    def func2(a, b):\n",
    "        return print(f'first variable = {a}, second variable = {b}')\n",
    "\n",
    "    l = locals()\n",
    "    \n",
    "def method_list(obj):\n",
    "    methods = []\n",
    "    for f in dir(obj):\n",
    "        if callable(getattr(obj, f)) and not f.startswith(\"_\"):\n",
    "            methods.append(f)   \n",
    "    funcs = [obj.l[f] for f in methods]\n",
    "    vars = [f.__code__.co_varnames for f in funcs]\n",
    "    return list(zip(funcs, vars))\n",
    "\n",
    "t = Test()\n",
    "method_list(t)[1][0](*[a for a in method_list(t)[1][1]])"
   ]
  },
  {
   "cell_type": "code",
   "execution_count": 120,
   "metadata": {},
   "outputs": [],
   "source": [
    "class Pizza:\n",
    "    def __init__(self, ingredients):\n",
    "        self.ingredients = ingredients\n",
    "\n",
    "    def __repr__(self):\n",
    "        return f'Pizza({self.ingredients!r})'\n",
    "    \n",
    "    @classmethod\n",
    "    def margherita(cls):\n",
    "        return cls(['mozzarella', 'tomatoes'])\n",
    "\n",
    "    @staticmethod\n",
    "    def circle_area(r):\n",
    "        return r ** 2 * math.pi"
   ]
  },
  {
   "cell_type": "code",
   "execution_count": 16,
   "metadata": {},
   "outputs": [],
   "source": [
    "class Estimate:\n",
    "    def __init__(self):\n",
    "        self.inputs = self.method_list(self.Inputs)\n",
    "        return None\n",
    "\n",
    "    class Inputs:\n",
    "        l = locals()\n",
    "        \n",
    "#         @staticmethod\n",
    "        def step(t, start, stop):\n",
    "            if t<start:\n",
    "                return 0\n",
    "            else:\n",
    "                return 1\n",
    "\n",
    "        def rect(t, start, drop, stop):\n",
    "            if t>=start and t<stop:\n",
    "                return 1\n",
    "            else:\n",
    "                return 0\n",
    "\n",
    "        def doublet(t, start, drop, rise, stop):\n",
    "            if t>=start and t<drop:\n",
    "                return 1\n",
    "            elif t>=drop and t<rise:\n",
    "                return -1\n",
    "            else:\n",
    "                return 0\n",
    "    \n",
    "    def get_inputs(self):\n",
    "        return self.inputs\n",
    "    \n",
    "    @staticmethod\n",
    "    def method_list(obj):\n",
    "        methods = []\n",
    "        for f in dir(obj):\n",
    "            if callable(getattr(obj, f)) and not f.startswith(\"_\"):\n",
    "                methods.append(f)   \n",
    "        funcs = [obj.l[f] for f in methods]\n",
    "        vars = [f.__code__.co_varnames for f in funcs]\n",
    "        return list(zip(funcs, vars))"
   ]
  },
  {
   "cell_type": "code",
   "execution_count": 17,
   "metadata": {},
   "outputs": [
    {
     "data": {
      "text/plain": [
       "[(<function __main__.Estimate.Inputs.doublet(t, start, drop, rise, stop)>,\n",
       "  ('t', 'start', 'drop', 'rise', 'stop')),\n",
       " (<function __main__.Estimate.Inputs.rect(t, start, drop, stop)>,\n",
       "  ('t', 'start', 'drop', 'stop')),\n",
       " (<function __main__.Estimate.Inputs.step(t, start, stop)>,\n",
       "  ('t', 'start', 'stop'))]"
      ]
     },
     "execution_count": 17,
     "metadata": {},
     "output_type": "execute_result"
    }
   ],
   "source": [
    "est = Estimate()\n",
    "est.get_inputs()"
   ]
  }
 ],
 "metadata": {
  "kernelspec": {
   "display_name": "Python 3",
   "language": "python",
   "name": "python3"
  },
  "language_info": {
   "codemirror_mode": {
    "name": "ipython",
    "version": 3
   },
   "file_extension": ".py",
   "mimetype": "text/x-python",
   "name": "python",
   "nbconvert_exporter": "python",
   "pygments_lexer": "ipython3",
   "version": "3.7.4"
  }
 },
 "nbformat": 4,
 "nbformat_minor": 4
}
