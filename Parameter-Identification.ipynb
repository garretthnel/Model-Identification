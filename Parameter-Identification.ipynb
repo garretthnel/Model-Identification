{
 "cells": [
  {
   "cell_type": "code",
   "execution_count": 1,
   "metadata": {},
   "outputs": [
    {
     "data": {
      "text/plain": [
       "<module 'pigui' from 'C:\\\\Users\\\\The Big G\\\\Documents\\\\Model-Identification\\\\pigui.py'>"
      ]
     },
     "execution_count": 1,
     "metadata": {},
     "output_type": "execute_result"
    }
   ],
   "source": [
    "import pigui\n",
    "import importlib\n",
    "\n",
    "importlib.reload(pigui)"
   ]
  },
  {
   "cell_type": "code",
   "execution_count": 2,
   "metadata": {},
   "outputs": [
    {
     "name": "stdout",
     "output_type": "stream",
     "text": [
      "38\n"
     ]
    }
   ],
   "source": [
    "system_list = [\n",
    "    [[1],[1]],\n",
    "    \n",
    "    [[1],[1,1]],\n",
    "    [[1],[1,10]],\n",
    "    [[1],[10,1]],\n",
    "    [[1],[1,1,1]],\n",
    "    [[1],[10,1,1]],\n",
    "    [[1],[1,10,1]],\n",
    "    [[1],[1,1,10]],\n",
    "    [[1],[10,10,1]],\n",
    "    [[1],[10,1,10]],\n",
    "    [[1],[1,10,10]],\n",
    "    \n",
    "    [[1,1],[1,10]],\n",
    "    [[1,1],[10,1]],\n",
    "    [[1,1],[1,1,1]],\n",
    "    [[1,1],[10,1,1]],\n",
    "    [[1,1],[1,10,1]],\n",
    "    [[1,1],[1,1,10]],\n",
    "    [[1,1],[10,10,1]],\n",
    "    [[1,1],[10,1,10]],\n",
    "    [[1,1],[1,10,10]],\n",
    "    \n",
    "    [[10,1],[1,1]],\n",
    "    [[10,1],[1,10]],\n",
    "    [[10,1],[1,1,1]],\n",
    "    [[10,1],[10,1,1]],\n",
    "    [[10,1],[1,10,1]],\n",
    "    [[10,1],[1,1,10]],\n",
    "    [[10,1],[10,10,1]],\n",
    "    [[10,1],[10,1,10]],\n",
    "    [[10,1],[1,10,10]],\n",
    "    \n",
    "    [[1,10],[1,1]],\n",
    "    [[1,10],[10,1]],\n",
    "    [[1,10],[1,1,1]],\n",
    "    [[1,10],[10,1,1]],\n",
    "    [[1,10],[1,10,1]],\n",
    "    [[1,10],[1,1,10]],\n",
    "    [[1,10],[10,10,1]],\n",
    "    [[1,10],[10,1,10]],\n",
    "    [[1,10],[1,10,10]]\n",
    "] \n",
    "pigui.system_list = system_list\n",
    "print(len(system_list))"
   ]
  },
  {
   "cell_type": "code",
   "execution_count": 3,
   "metadata": {},
   "outputs": [
    {
     "data": {
      "application/vnd.jupyter.widget-view+json": {
       "model_id": "7906b1ea057044f3a39976551674b466",
       "version_major": 2,
       "version_minor": 0
      },
      "text/plain": [
       "interactive(children=(Dropdown(description='Input', options=('Step', 'Rect', 'Doublet'), value='Step'), Dropdo…"
      ]
     },
     "metadata": {},
     "output_type": "display_data"
    },
    {
     "data": {
      "text/plain": [
       "<function pigui.sim(Input='Step', Noise='None', Technique='Genetic Algorithm')>"
      ]
     },
     "execution_count": 3,
     "metadata": {},
     "output_type": "execute_result"
    }
   ],
   "source": [
    "pigui.gui()"
   ]
  }
 ],
 "metadata": {
  "kernelspec": {
   "display_name": "Python 3",
   "language": "python",
   "name": "python3"
  },
  "language_info": {
   "codemirror_mode": {
    "name": "ipython",
    "version": 3
   },
   "file_extension": ".py",
   "mimetype": "text/x-python",
   "name": "python",
   "nbconvert_exporter": "python",
   "pygments_lexer": "ipython3",
   "version": "3.7.4"
  }
 },
 "nbformat": 4,
 "nbformat_minor": 4
}
