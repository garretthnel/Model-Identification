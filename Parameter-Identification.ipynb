{
 "cells": [
  {
   "cell_type": "code",
   "execution_count": 1,
   "metadata": {},
   "outputs": [],
   "source": [
    "# imports\n",
    "from inspect import signature\n",
    "import control\n",
    "import numpy\n",
    "from matplotlib import pyplot as plt"
   ]
  },
  {
   "cell_type": "code",
   "execution_count": 2,
   "metadata": {},
   "outputs": [],
   "source": [
    "# inputs\n",
    "def step(t, start, stop):\n",
    "    if t<start:\n",
    "        return 0\n",
    "    else:\n",
    "        return 1\n",
    "    #     return numpy.concatenate((numpy.array([0 for i in range(s)]), numpy.array([1 for i in range(l)])), axis=None)\n",
    "\n",
    "\n",
    "def rect(t, start, drop, stop):\n",
    "    if t>=start and t<stop:\n",
    "        return 1\n",
    "    else:\n",
    "        return 0\n",
    "    #     return numpy.concatenate((numpy.array([0 for i in range(s)]), numpy.array([1 for i in range(l)]), numpy.array([0 for i in range(f)])), axis=None)\n",
    "\n",
    "\n",
    "def doublet(t, start, drop, rise, stop):\n",
    "    if t>=start and t<drop:\n",
    "        return 1\n",
    "    elif t>=drop and t<stop:\n",
    "        return -1\n",
    "    else:\n",
    "        return 0\n",
    "    #     return numpy.concatenate((numpy.array([0 for i in range(s)]), numpy.array([1 for i in range(l1)]), numpy.array([-1 for i in range(l2)]), numpy.array([0 for i in range(f)])), axis=None)\n",
    "    \n",
    "input_dict = {'step': step, \n",
    "              'rect': rect, \n",
    "              'doublet': doublet}"
   ]
  },
  {
   "cell_type": "code",
   "execution_count": 3,
   "metadata": {},
   "outputs": [],
   "source": [
    "# read data\n",
    "def read(file):\n",
    "    df = pandas.read_csv(file)\n",
    "    ydata = df.y.values - df.y[0]\n",
    "    udata = df.u.values - df.u[0]\n",
    "    tdata = df.t.values\n",
    "    return [ydata, udata, tdata]"
   ]
  },
  {
   "cell_type": "code",
   "execution_count": 11,
   "metadata": {},
   "outputs": [],
   "source": [
    "# system\n",
    "\n",
    "# def FO(u, mv, uv, l):\n",
    "#     K, tau = mv\n",
    "#     ts = numpy.linspace(0,l)\n",
    "#     dt = ts[1]\n",
    "#     y = 0\n",
    "#     ys = []\n",
    "#     for t in ts:\n",
    "#         dydt = -1/tau*y + 1/tau*u(t, up)\n",
    "#         y += dydt*dt\n",
    "#         ys.append(y)\n",
    "#     return ys\n",
    "\n",
    "def FO(K, τ):\n",
    "    return control.tf(K, [τ, 1])\n",
    "\n",
    "def create_system(num, den):\n",
    "    return control.tf(num, den)\n",
    "    \n",
    "    \n",
    "    \n",
    "# -convert to statespace and integrate\n",
    "\n",
    "system_dict = {'First Order': FO,\n",
    "              'Create System': create_system}"
   ]
  },
  {
   "cell_type": "code",
   "execution_count": 24,
   "metadata": {},
   "outputs": [],
   "source": [
    "def params(u, i):\n",
    "    sig = str(signature(u)).split(', ')\n",
    "    sig[0] = sig[0].split('(')[-1]\n",
    "    sig[-1] = sig[-1].split(')')[0]\n",
    "    return sig[i:]\n",
    "    \n",
    "def ui():\n",
    "    names = [names for names,dict in input_dict.items()]\n",
    "    c_input = input(\"Choose an input type from: {}\".format(names))\n",
    "#     if c_input not in names:\n",
    "#         while c_input not in names:\n",
    "#             c_input = input(\"Ivalid input. Choose an input type from: {}\".format(names))\n",
    "    u = input_dict[c_input]\n",
    "    u_sig = params(u,1)\n",
    "    c_input_params = [float(i) for i in input(\"Input paramter list of format: {}\".format(u_sig)).split(', ')]\n",
    "    \n",
    "    names = [names for names,dict in system_dict.items()]\n",
    "    c_system = input(\"Choose a system type from: {}\".format(names))\n",
    "    sys = system_dict[c_system]\n",
    "    sys_sig = params(sys,0)\n",
    "    c_sys_params = [float(i) for i in input(\"numerator\").split(', ')], [float(i) for i in input(\"denominator\").split(', ')]\n",
    "    print(*c_sys_params)\n",
    "#     c_sys_params = [float(i) for i in (input(\"Input paramter list of format: {}\".format(sys_sig))).split(', ')]\n",
    "\n",
    "    ts = numpy.linspace(0, c_input_params[-1])\n",
    "    system = create_system(*c_sys_params)\n",
    "    t, y, x = control.forced_response(system, T=ts, U=[u(t, *c_input_params) for t in ts])\n",
    "    plt.plot(t, y)\n",
    "    \n",
    "    "
   ]
  },
  {
   "cell_type": "code",
   "execution_count": 25,
   "metadata": {},
   "outputs": [
    {
     "name": "stdin",
     "output_type": "stream",
     "text": [
      "Choose an input type from: ['step', 'rect', 'doublet'] step\n",
      "Input paramter list of format: ['start', 'stop'] 10, 100\n",
      "Choose a system type from: ['First Order', 'Create System'] Create System\n",
      "numerator 10\n",
      "denominator 10, 1\n"
     ]
    },
    {
     "name": "stdout",
     "output_type": "stream",
     "text": [
      "[10.0] [10.0, 1.0]\n"
     ]
    },
    {
     "data": {
      "image/png": "[encoded data removed]",
      "text/plain": [
       "<Figure size 432x288 with 1 Axes>"
      ]
     },
     "metadata": {
      "needs_background": "light"
     },
     "output_type": "display_data"
    }
   ],
   "source": [
    "ui()"
   ]
  },
  {
   "cell_type": "code",
   "execution_count": 8,
   "metadata": {},
   "outputs": [
    {
     "data": {
      "text/plain": [
       "['[', '10', ', ', '2', ']']"
      ]
     },
     "execution_count": 8,
     "metadata": {},
     "output_type": "execute_result"
    }
   ],
   "source": [
    "st = \"1, 2\"\n",
    "st.split(\"]\")[0].split(\"[\")[-1].split(\", \"), st.split(\"[\")[-1].split(\"]\")[0].split(\", \")\n",
    "# [float(i) for i in \"[1, 2], [3. 4]\".split(', ')]\n",
    "# str.split(\"[\")[-1].split(\"]\")\n",
    "\n",
    "\"['10', '2']\".split(\"'\")"
   ]
  },
  {
   "cell_type": "code",
   "execution_count": 13,
   "metadata": {},
   "outputs": [],
   "source": [
    "x = control.tf(1, [1,1])"
   ]
  },
  {
   "cell_type": "code",
   "execution_count": null,
   "metadata": {},
   "outputs": [],
   "source": [
    "x."
   ]
  }
 ],
 "metadata": {
  "kernelspec": {
   "display_name": "Python 3",
   "language": "python",
   "name": "python3"
  },
  "language_info": {
   "codemirror_mode": {
    "name": "ipython",
    "version": 3
   },
   "file_extension": ".py",
   "mimetype": "text/x-python",
   "name": "python",
   "nbconvert_exporter": "python",
   "pygments_lexer": "ipython3",
   "version": "3.7.4"
  }
 },
 "nbformat": 4,
 "nbformat_minor": 4
}
